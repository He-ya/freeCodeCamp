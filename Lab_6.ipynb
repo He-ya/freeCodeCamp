{
  "nbformat": 4,
  "nbformat_minor": 0,
  "metadata": {
    "colab": {
      "name": "Lab 6.ipynb",
      "version": "0.3.2",
      "provenance": [],
      "collapsed_sections": [],
      "include_colab_link": true
    },
    "kernelspec": {
      "name": "python3",
      "display_name": "Python 3"
    }
  },
  "cells": [
    {
      "cell_type": "markdown",
      "metadata": {
        "id": "view-in-github",
        "colab_type": "text"
      },
      "source": [
        "<a href=\"https://colab.research.google.com/github/He-ya/freeCodeCamp/blob/master/Lab_6.ipynb\" target=\"_parent\"><img src=\"https://colab.research.google.com/assets/colab-badge.svg\" alt=\"Open In Colab\"/></a>"
      ]
    },
    {
      "metadata": {
        "id": "sbrZlvAdGrOu",
        "colab_type": "text"
      },
      "cell_type": "markdown",
      "source": [
        "# Lab 6. 萃取文字中的情感\n",
        "\n",
        "在這一個Lab中，我們將利用twitter API來去擷取twitter的文章以及評論，並看看到底誰和原波的情緒是一樣的。\n",
        "\n",
        "[注] 近期內FB屢屢遭遇隱私權的議題，因此緊縮其API的存取權限。因此在此處我們改用twitter api。"
      ]
    },
    {
      "metadata": {
        "id": "0fO36VtyjMja",
        "colab_type": "text"
      },
      "cell_type": "markdown",
      "source": [
        "### 安裝爬蟲推特所需的library"
      ]
    },
    {
      "metadata": {
        "id": "XJQ3c7HoLlge",
        "colab_type": "code",
        "outputId": "914c28b7-1de0-4c41-95f3-f1270056685c",
        "colab": {
          "base_uri": "https://localhost:8080/",
          "height": 204
        }
      },
      "cell_type": "code",
      "source": [
        "!pip install tweepy"
      ],
      "execution_count": 0,
      "outputs": [
        {
          "output_type": "stream",
          "text": [
            "Requirement already satisfied: twitter in /usr/local/lib/python3.6/dist-packages (1.18.0)\n",
            "Requirement already satisfied: tweepy in /usr/local/lib/python3.6/dist-packages (3.6.0)\n",
            "Requirement already satisfied: six>=1.10.0 in /usr/local/lib/python3.6/dist-packages (from tweepy) (1.11.0)\n",
            "Requirement already satisfied: requests-oauthlib>=0.7.0 in /usr/local/lib/python3.6/dist-packages (from tweepy) (1.0.0)\n",
            "Requirement already satisfied: requests>=2.11.1 in /usr/local/lib/python3.6/dist-packages (from tweepy) (2.18.4)\n",
            "Requirement already satisfied: PySocks>=1.5.7 in /usr/local/lib/python3.6/dist-packages (from tweepy) (1.6.8)\n",
            "Requirement already satisfied: oauthlib>=0.6.2 in /usr/local/lib/python3.6/dist-packages (from requests-oauthlib>=0.7.0->tweepy) (2.1.0)\n",
            "Requirement already satisfied: chardet<3.1.0,>=3.0.2 in /usr/local/lib/python3.6/dist-packages (from requests>=2.11.1->tweepy) (3.0.4)\n",
            "Requirement already satisfied: urllib3<1.23,>=1.21.1 in /usr/local/lib/python3.6/dist-packages (from requests>=2.11.1->tweepy) (1.22)\n",
            "Requirement already satisfied: idna<2.7,>=2.5 in /usr/local/lib/python3.6/dist-packages (from requests>=2.11.1->tweepy) (2.6)\n",
            "Requirement already satisfied: certifi>=2017.4.17 in /usr/local/lib/python3.6/dist-packages (from requests>=2.11.1->tweepy) (2018.11.29)\n"
          ],
          "name": "stdout"
        }
      ]
    },
    {
      "metadata": {
        "id": "JEAwE7UqjUVu",
        "colab_type": "text"
      },
      "cell_type": "markdown",
      "source": [
        "### 載入必要的library\n",
        "\n",
        "本lab所需要連結的兩個API服務基本都需要用到requests和json兩個libraries。"
      ]
    },
    {
      "metadata": {
        "id": "6aFEAXd62ZEi",
        "colab_type": "code",
        "colab": {}
      },
      "cell_type": "code",
      "source": [
        "import requests\n",
        "import json\n",
        "import IPython.display\n",
        "import urllib  \n",
        "\n",
        "import tweepy \n",
        "from pprint import pprint"
      ],
      "execution_count": 0,
      "outputs": []
    },
    {
      "metadata": {
        "id": "aBlfwmYYvwNB",
        "colab_type": "text"
      },
      "cell_type": "markdown",
      "source": [
        "### Twitter API 設定\n",
        "\n",
        "請先到https://apps.twitter.com/ 中建立自己的twitter app。並且將App裡的keys and tokens將下列資訊取出:\n",
        "\n",
        "* Consumer_key\n",
        "* Consumer_secret_key\n",
        "* access_token\n",
        "* access_token_secret\n",
        "\n",
        "並記下自己的twitter ID\n",
        "\n",
        "詳細的逐步過程請見：https://www.digitalocean.com/community/tutorials/how-to-authenticate-a-python-application-with-twitter-using-tweepy-on-ubuntu-14-04"
      ]
    },
    {
      "metadata": {
        "id": "7U5BMLI3MLvL",
        "colab_type": "code",
        "colab": {}
      },
      "cell_type": "code",
      "source": [
        "# 請填入自己的twiiter相關訊息.  \n",
        "consumer_key = \"＿＿＿＿＿＿＿＿\"  \n",
        "consumer_secret = \"＿＿＿＿＿＿＿＿\"  \n",
        "access_token = \"＿＿＿＿＿＿＿＿\"  \n",
        "access_token_secret = \"＿＿＿＿＿＿＿＿\"  \n",
        "MY_TWITTER_ID = '＿＿＿＿＿＿＿＿'  "
      ],
      "execution_count": 0,
      "outputs": []
    },
    {
      "metadata": {
        "id": "WiwVfn7fwVxZ",
        "colab_type": "text"
      },
      "cell_type": "markdown",
      "source": [
        "開啟連線取出api這個服務session"
      ]
    },
    {
      "metadata": {
        "id": "AedyoAfVMF0C",
        "colab_type": "code",
        "colab": {}
      },
      "cell_type": "code",
      "source": [
        "auth = tweepy.OAuthHandler(consumer_key, consumer_secret)\n",
        "auth.set_access_token(access_token, access_token_secret)\n",
        "api = tweepy.API(auth)"
      ],
      "execution_count": 0,
      "outputs": []
    },
    {
      "metadata": {
        "id": "UXcRhlfPwfiU",
        "colab_type": "text"
      },
      "cell_type": "markdown",
      "source": [
        "測試: 透過friends取出自己好友\n"
      ]
    },
    {
      "metadata": {
        "id": "yb0cKFSPMzby",
        "colab_type": "code",
        "outputId": "37c9ea25-cf2d-44b1-ce8f-9c1b939448d5",
        "colab": {
          "base_uri": "https://localhost:8080/",
          "height": 323
        }
      },
      "cell_type": "code",
      "source": [
        "user = api.me() # set user to yourself\n",
        "\n",
        "for friend in user.friends():\n",
        "   print(friend.screen_name)\n",
        "#print(tweepy.Cursor(api.friends_ids('screen_name')))\n",
        "#for friend in tweepy.Cursor(api.friends_ids).items():\n",
        "#  print(friend)\n",
        "#    print (\"Followed everyone that is following \" + follower.name)\n",
        "#print(tweepy.Cursor(api.friends).items())"
      ],
      "execution_count": 0,
      "outputs": [
        {
          "output_type": "stream",
          "text": [
            "Chun F.Hsu\n",
            "HyattConcierge\n",
            "KP_Taipei\n",
            "iingwen\n",
            "tysonchandler\n",
            "Suns\n",
            "bb1572000\n",
            "RealGM\n",
            "ShamsCharania\n",
            "MarcJSpearsESPN\n",
            "NBA\n",
            "unimelb\n",
            "SHAQ\n",
            "SteveNash\n",
            "azcsports\n",
            "paulcoro\n",
            "wojespn\n",
            "Dropbox\n"
          ],
          "name": "stdout"
        }
      ]
    },
    {
      "metadata": {
        "id": "blxvRIP3ypl2",
        "colab_type": "text"
      },
      "cell_type": "markdown",
      "source": [
        "### 練習\n",
        "\n",
        "使用任一人物(此例使用柯文哲)取出其中10篇推特與其留言\n",
        "\n"
      ]
    },
    {
      "metadata": {
        "id": "XYSRNhfhQ9fB",
        "colab_type": "code",
        "outputId": "42044961-41bf-4b0f-83c6-3a5d0bff6e21",
        "colab": {
          "base_uri": "https://localhost:8080/",
          "height": 1819
        }
      },
      "cell_type": "code",
      "source": [
        "from collections import defaultdict\n",
        "\n",
        "user1 = 'KP_Taipei'\n",
        "\n",
        "new_tweets = api.user_timeline(screen_name=user1, count=10)\n",
        "\n",
        "replies = defaultdict(list)\n",
        "for full_tweet in new_tweets:\n",
        "  \n",
        "  print('顯示該則推特本文:')\n",
        "  pprint(full_tweet.text)\n",
        "  print('顯示該則推特回文')\n",
        "  \n",
        "  replies[full_tweet.id].append(tweet.text)\n",
        "  \n",
        "  for tweet in tweepy.Cursor(api.search,q='to:'+user1, result_type='recent',timeout=999999).items(3000):\n",
        "    if hasattr(tweet, 'in_reply_to_status_id_str'):\n",
        "      if (tweet.in_reply_to_status_id_str==full_tweet.id_str):\n",
        "          replies[full_tweet.id].append(tweet.text)\n",
        "    \n",
        "pprint(replies)  \n",
        "  \n",
        "\n"
      ],
      "execution_count": 0,
      "outputs": [
        {
          "output_type": "stream",
          "text": [
            "顯示該則推特本文:\n",
            "('One of my goals for the new term is to strengthen the quality of '\n",
            " 'marketplaces and night markets in #Taipei. In the… https://t.co/b5oZfbJery')\n",
            "顯示該則推特回文\n",
            "顯示該則推特本文:\n",
            "('#HappyNewYear2019\\n'\n",
            " \"Are you ready for tonight? Join me on my Facebook Live around 10:30. Let's \"\n",
            " 'welcome 2019 together… https://t.co/Efy3qBb3jG')\n",
            "顯示該則推特回文\n",
            "顯示該則推特本文:\n",
            "\"Let's work!  #Keepgoing #Dec25 https://t.co/iRqaiPAbbQ\"\n",
            "顯示該則推特回文\n",
            "顯示該則推特本文:\n",
            "('Building public housing is one of our main goals for the last four years. We '\n",
            " 'will continue to work hard to practice… https://t.co/Q14w8bep8n')\n",
            "顯示該則推特回文\n",
            "顯示該則推特本文:\n",
            "(\"'Serving the citizens and innovating for the city' has been our goals during \"\n",
            " 'the last four years. I will lead the t… https://t.co/RVsUCfKKEU')\n",
            "顯示該則推特回文\n",
            "顯示該則推特本文:\n",
            "('Every great city has its own marathon. The #TaipeiMarathon has been held for '\n",
            " 'more than 30 years since 1986. It has… https://t.co/DZv34Z8EPk')\n",
            "顯示該則推特回文\n",
            "顯示該則推特本文:\n",
            "('The theme of the 2018 Chrysanthemum Show in Shilin is merging Chrysanthemum '\n",
            " 'with renowned landscapes around the wor… https://t.co/yZ2Z0ncK6d')\n",
            "顯示該則推特回文\n",
            "顯示該則推特本文:\n",
            "('Qingshan Temple was built one century ago, also known as one of the most '\n",
            " 'important temples in Manka. The King of Qi… https://t.co/CyC63gaL0f')\n",
            "顯示該則推特回文\n",
            "顯示該則推特本文:\n",
            "('In #Dadaocheng, you can dress like me. HA! \\n'\n",
            " '#Taipei #History https://t.co/9ZREv0qn3Y')\n",
            "顯示該則推特回文\n",
            "顯示該則推特本文:\n",
            "('The reopening of Mitsui Warehouse is part of the Taipei west gateway plan. '\n",
            " 'After more than two years of repair, it… https://t.co/nbW8ImNCWT')\n",
            "顯示該則推特回文\n",
            "defaultdict(<class 'list'>,\n",
            "            {1059371728973914112: ['@KP_Taipei 多做正面的事，對事情才有幫助'],\n",
            "             1062623801563729920: ['@KP_Taipei 多做正面的事，對事情才有幫助'],\n",
            "             1068433627501879297: ['@KP_Taipei 多做正面的事，對事情才有幫助'],\n",
            "             1069159241481502720: ['@KP_Taipei 多做正面的事，對事情才有幫助'],\n",
            "             1072065243692523520: ['@KP_Taipei 多做正面的事，對事情才有幫助'],\n",
            "             1074469520520007680: ['@KP_Taipei 多做正面的事，對事情才有幫助'],\n",
            "             1075278887959969792: ['@KP_Taipei 多做正面的事，對事情才有幫助',\n",
            "                                   '@KP_Taipei 柯文哲',\n",
            "                                   '@KP_Taipei 加油！市长！请来中国做省长。',\n",
            "                                   '@KP_Taipei Hi I saw you yesterday at '\n",
            "                                   'taipei'],\n",
            "             1077487501005152257: ['@KP_Taipei 多做正面的事，對事情才有幫助',\n",
            "                                   '@KP_Taipei '\n",
            "                                   '柯市长来中国做省长一定做的很好！顺便也把台湾的先进三民主义民主带进来。',\n",
            "                                   '@KP_Taipei Yeah! Just do it.',\n",
            "                                   '@KP_Taipei 推特並不一定要說英文，柯p說中文吧！',\n",
            "                                   '@KP_Taipei duck you',\n",
            "                                   '@KP_Taipei good job.',\n",
            "                                   '@KP_Taipei 多做正面的事，對事情才有幫助'],\n",
            "             1079645706405593088: ['@KP_Taipei 多做正面的事，對事情才有幫助',\n",
            "                                   '@KP_Taipei https://t.co/7gVsx0Se2I',\n",
            "                                   '@KP_Taipei 市長紙張照片讚！！👍👍👍👍👍',\n",
            "                                   '@KP_Taipei My heart will be there.',\n",
            "                                   '@KP_Taipei “两岸一家亲”?\\n'\n",
            "                                   '㊗️祝你 2019 年，隨習近平為首的中共陪葬，下十八層地獄！',\n",
            "                                   '@KP_Taipei '\n",
            "                                   '若陳思宇能當選立委，應該能加快台北市一些要和中央政府協調，方能成行的建設，不會因為意識型態或政黨因素而拖延',\n",
            "                                   '@KP_Taipei 柯 liar '\n",
            "                                   '末日已見..無人鳥&lt;放話&gt;了..&lt;實名制&gt;發佈訊息..讓媒體求證..無俱名訊息..都是&lt;假訊息&gt; '\n",
            "                                   'NCC 要罰....',\n",
            "                                   '@KP_Taipei https://t.co/TFB2LJ6kKo',\n",
            "                                   '@KP_Taipei Keep going!!',\n",
            "                                   \"@KP_Taipei 阿貝加油 ! keep going and don't let \"\n",
            "                                   'us down !',\n",
            "                                   '@KP_Taipei ¡Feliz Año Nuevo! \\U0001f973',\n",
            "                                   '@KP_Taipei 市長好 我們需要設置分區的動保警察\\n'\n",
            "                                   '可以隨時來開罰單的。才能正確落實動保法。',\n",
            "                                   '@KP_Taipei 讓我們迎接美好的2019年台灣我們愛你。Let us '\n",
            "                                   'welcome the beautiful 2019 Taiwan, we love '\n",
            "                                   'you. We are ready, Are you ready?',\n",
            "                                   '@KP_Taipei 阿伯，今晚大家來high 翻全場',\n",
            "                                   '@KP_Taipei 两岸一家亲，共圆中国梦',\n",
            "                                   '@KP_Taipei 👌 standby for you',\n",
            "                                   '@KP_Taipei https://t.co/cCxe5cdS5X\\n'\n",
            "                                   '\\n'\n",
            "                                   'But are you ready to get free yourself',\n",
            "                                   '@KP_Taipei 阿北新年快樂♡ 要照顧身體  才能KeeP going ~'],\n",
            "             1082187216581869568: ['@KP_Taipei 多做正面的事，對事情才有幫助',\n",
            "                                   '@KP_Taipei Not market only, the '\n",
            "                                   'infrastructure of traffic &amp; social '\n",
            "                                   'residences.',\n",
            "                                   '@KP_Taipei 辛苦了，我跟許多人都支持你，跟一群無名的英雄，\\n'\n",
            "                                   '還有美麗的學姊',\n",
            "                                   '@KP_Taipei Great! Markets, be they '\n",
            "                                   'traditional,  modern, morning, afternoon, '\n",
            "                                   'evening, or night, do not have to be d… '\n",
            "                                   'https://t.co/BGBQjUFoyc',\n",
            "                                   '@KP_Taipei Thank you my mayor',\n",
            "                                   '@KP_Taipei 柯p加油哇有人連lie都不會拼哀哀',\n",
            "                                   '@KP_Taipei 爱打嘴炮不做实事的网红,他lei了.',\n",
            "                                   \"@KP_Taipei Don't  forget to state that you \"\n",
            "                                   'and PRC are happy family. '\n",
            "                                   '#HAPPYFAMILYwithPRC',\n",
            "                                   '@KP_Taipei 說實在的...有講跟沒講差不多⋯⋯學姊～what’s the '\n",
            "                                   'detail?']})\n"
          ],
          "name": "stdout"
        }
      ]
    },
    {
      "metadata": {
        "id": "zOWC9COFzaoj",
        "colab_type": "text"
      },
      "cell_type": "markdown",
      "source": [
        "## Microsoft Cognitive Service"
      ]
    },
    {
      "metadata": {
        "id": "YipLrWuRzik8",
        "colab_type": "text"
      },
      "cell_type": "markdown",
      "source": [
        "這裡我們要微軟的認知服務。\n",
        "這邊我們要做的是語言分析。\n",
        "\n",
        "首先，請先到https://azure.microsoft.com/zh-tw/services/cognitive-services/text-analytics/ 中取得API的Key。請點上面的“試用文字分析”，之後，請點最左邊的藍色框框中的免費試用，並完成取得服務的subscription key。"
      ]
    },
    {
      "metadata": {
        "id": "3iC5uz6szcu3",
        "colab_type": "code",
        "colab": {}
      },
      "cell_type": "code",
      "source": [
        "# 請填入自己的key\n",
        "subscription_key = \"________\"\n",
        "assert subscription_key"
      ],
      "execution_count": 0,
      "outputs": []
    },
    {
      "metadata": {
        "id": "2wln9Ek4zwd6",
        "colab_type": "text"
      },
      "cell_type": "markdown",
      "source": [
        "練習: 語言偵測\n",
        "\n",
        "接下來取得 text analytics 的url，加上語言偵測。"
      ]
    },
    {
      "metadata": {
        "id": "r9VQ70FRzsbS",
        "colab_type": "code",
        "outputId": "1ea0b75c-d123-4807-ed2b-641f7a44f114",
        "colab": {
          "base_uri": "https://localhost:8080/",
          "height": 34
        }
      },
      "cell_type": "code",
      "source": [
        "text_analytics_base_url = \"https://australiaeast.api.cognitive.microsoft.com/text/analytics/v2.0/\"\n",
        "language_api_url = text_analytics_base_url + \"languages\"\n",
        "print(language_api_url)"
      ],
      "execution_count": 0,
      "outputs": [
        {
          "output_type": "stream",
          "text": [
            "https://australiaeast.api.cognitive.microsoft.com/text/analytics/v2.0/languages\n"
          ],
          "name": "stdout"
        }
      ]
    },
    {
      "metadata": {
        "id": "ifrkvSrX6-Ro",
        "colab_type": "text"
      },
      "cell_type": "markdown",
      "source": [
        "以下為範例格式，將使用此範例透過Azure Text Analysis做語言偵測"
      ]
    },
    {
      "metadata": {
        "id": "hTQ7GgrQz3Z5",
        "colab_type": "code",
        "colab": {}
      },
      "cell_type": "code",
      "source": [
        "# Examples\n",
        "documents = { 'documents': [\n",
        "    { 'id': '1', 'text': 'This is a document written in English.' },\n",
        "    { 'id': '2', 'text': 'Este es un document escrito en Español.' },\n",
        "    { 'id': '3', 'text': '這是一個用中文寫的文件' }\n",
        "]}"
      ],
      "execution_count": 0,
      "outputs": []
    },
    {
      "metadata": {
        "id": "mUQVt0Yl7Jn4",
        "colab_type": "text"
      },
      "cell_type": "markdown",
      "source": [
        "完成文件製作後，將request格式填好。隨即進行偵測。"
      ]
    },
    {
      "metadata": {
        "id": "iLzVJXv86wkU",
        "colab_type": "code",
        "outputId": "9e23984b-995f-4000-ba34-655804725937",
        "colab": {
          "base_uri": "https://localhost:8080/",
          "height": 238
        }
      },
      "cell_type": "code",
      "source": [
        "headers   = {\"Ocp-Apim-Subscription-Key\": subscription_key}\n",
        "response  = requests.post(language_api_url, headers=headers, json=documents)\n",
        "languages = response.json()\n",
        "pprint(languages)"
      ],
      "execution_count": 0,
      "outputs": [
        {
          "output_type": "stream",
          "text": [
            "{'documents': [{'detectedLanguages': [{'iso6391Name': 'en',\n",
            "                                       'name': 'English',\n",
            "                                       'score': 1.0}],\n",
            "                'id': '1'},\n",
            "               {'detectedLanguages': [{'iso6391Name': 'es',\n",
            "                                       'name': 'Spanish',\n",
            "                                       'score': 1.0}],\n",
            "                'id': '2'},\n",
            "               {'detectedLanguages': [{'iso6391Name': 'zh_cht',\n",
            "                                       'name': 'Chinese_Traditional',\n",
            "                                       'score': 1.0}],\n",
            "                'id': '3'}],\n",
            " 'errors': []}\n"
          ],
          "name": "stdout"
        }
      ]
    },
    {
      "metadata": {
        "id": "ZQZCnmq-7tTD",
        "colab_type": "text"
      },
      "cell_type": "markdown",
      "source": [
        "### 透過微軟情感分析API分析取出的推特\n",
        "\n",
        "作法與上例相近，更改API endpoint成sentimemt即可。"
      ]
    },
    {
      "metadata": {
        "id": "7K2wZ35eNVjG",
        "colab_type": "text"
      },
      "cell_type": "markdown",
      "source": [
        "首先我們將剛擷取的回覆製作成符合格式的document。這裡我們取回應最多的那則推特。注意這邊第一份文字(id為1)的是原本推特文，接下來後面才是回文。"
      ]
    },
    {
      "metadata": {
        "id": "wpmly1LAWGN5",
        "colab_type": "code",
        "outputId": "444748cb-48fd-46da-b7a6-6675ac77094c",
        "colab": {
          "base_uri": "https://localhost:8080/",
          "height": 598
        }
      },
      "cell_type": "code",
      "source": [
        "twi_document = {'documents':[]}\n",
        "\n",
        "max_id = None\n",
        "max_value = 0\n",
        "for key, value in replies.items():\n",
        "  if len(value) > max_value:\n",
        "    max_id = key\n",
        "    max_value = len(value)\n",
        "\n",
        "    \n",
        "max_replies_tweet = replies[max_id]\n",
        "\n",
        "print(max_replies_tweet)\n",
        "\n",
        "\n",
        "for counter, text in enumerate(max_replies_tweet):\n",
        "  twi_document['documents'].append({'id' : counter + 1, 'text': text})\n",
        "\n",
        "pprint(twi_document)"
      ],
      "execution_count": 0,
      "outputs": [
        {
          "output_type": "stream",
          "text": [
            "['@KP_Taipei 多做正面的事，對事情才有幫助', '@KP_Taipei https://t.co/7gVsx0Se2I', '@KP_Taipei 市長紙張照片讚！！👍👍👍👍👍', '@KP_Taipei My heart will be there.', '@KP_Taipei “两岸一家亲”?\\n㊗️祝你 2019 年，隨習近平為首的中共陪葬，下十八層地獄！', '@KP_Taipei 若陳思宇能當選立委，應該能加快台北市一些要和中央政府協調，方能成行的建設，不會因為意識型態或政黨因素而拖延', '@KP_Taipei 柯 liar 末日已見..無人鳥&lt;放話&gt;了..&lt;實名制&gt;發佈訊息..讓媒體求證..無俱名訊息..都是&lt;假訊息&gt; NCC 要罰....', '@KP_Taipei https://t.co/TFB2LJ6kKo', '@KP_Taipei Keep going!!', \"@KP_Taipei 阿貝加油 ! keep going and don't let us down !\", '@KP_Taipei ¡Feliz Año Nuevo! \\U0001f973', '@KP_Taipei 市長好 我們需要設置分區的動保警察\\n可以隨時來開罰單的。才能正確落實動保法。', '@KP_Taipei 讓我們迎接美好的2019年台灣我們愛你。Let us welcome the beautiful 2019 Taiwan, we love you. We are ready, Are you ready?', '@KP_Taipei 阿伯，今晚大家來high 翻全場', '@KP_Taipei 两岸一家亲，共圆中国梦', '@KP_Taipei 👌 standby for you', '@KP_Taipei https://t.co/cCxe5cdS5X\\n\\nBut are you ready to get free yourself', '@KP_Taipei 阿北新年快樂♡ 要照顧身體  才能KeeP going ~']\n",
            "{'documents': [{'id': 1, 'text': '@KP_Taipei 多做正面的事，對事情才有幫助'},\n",
            "               {'id': 2, 'text': '@KP_Taipei https://t.co/7gVsx0Se2I'},\n",
            "               {'id': 3, 'text': '@KP_Taipei 市長紙張照片讚！！👍👍👍👍👍'},\n",
            "               {'id': 4, 'text': '@KP_Taipei My heart will be there.'},\n",
            "               {'id': 5,\n",
            "                'text': '@KP_Taipei “两岸一家亲”?\\n㊗️祝你 2019 年，隨習近平為首的中共陪葬，下十八層地獄！'},\n",
            "               {'id': 6,\n",
            "                'text': '@KP_Taipei '\n",
            "                        '若陳思宇能當選立委，應該能加快台北市一些要和中央政府協調，方能成行的建設，不會因為意識型態或政黨因素而拖延'},\n",
            "               {'id': 7,\n",
            "                'text': '@KP_Taipei 柯 liar '\n",
            "                        '末日已見..無人鳥&lt;放話&gt;了..&lt;實名制&gt;發佈訊息..讓媒體求證..無俱名訊息..都是&lt;假訊息&gt; '\n",
            "                        'NCC 要罰....'},\n",
            "               {'id': 8, 'text': '@KP_Taipei https://t.co/TFB2LJ6kKo'},\n",
            "               {'id': 9, 'text': '@KP_Taipei Keep going!!'},\n",
            "               {'id': 10,\n",
            "                'text': \"@KP_Taipei 阿貝加油 ! keep going and don't let us down !\"},\n",
            "               {'id': 11, 'text': '@KP_Taipei ¡Feliz Año Nuevo! \\U0001f973'},\n",
            "               {'id': 12,\n",
            "                'text': '@KP_Taipei 市長好 我們需要設置分區的動保警察\\n可以隨時來開罰單的。才能正確落實動保法。'},\n",
            "               {'id': 13,\n",
            "                'text': '@KP_Taipei 讓我們迎接美好的2019年台灣我們愛你。Let us welcome the '\n",
            "                        'beautiful 2019 Taiwan, we love you. We are ready, Are '\n",
            "                        'you ready?'},\n",
            "               {'id': 14, 'text': '@KP_Taipei 阿伯，今晚大家來high 翻全場'},\n",
            "               {'id': 15, 'text': '@KP_Taipei 两岸一家亲，共圆中国梦'},\n",
            "               {'id': 16, 'text': '@KP_Taipei 👌 standby for you'},\n",
            "               {'id': 17,\n",
            "                'text': '@KP_Taipei https://t.co/cCxe5cdS5X\\n'\n",
            "                        '\\n'\n",
            "                        'But are you ready to get free yourself'},\n",
            "               {'id': 18, 'text': '@KP_Taipei 阿北新年快樂♡ 要照顧身體  才能KeeP going ~'}]}\n"
          ],
          "name": "stdout"
        }
      ]
    },
    {
      "metadata": {
        "id": "iZkwGTcXgShj",
        "colab_type": "text"
      },
      "cell_type": "markdown",
      "source": [
        "準備好了twi_document，接下來我們將語言偵測的api改成情感分析。"
      ]
    },
    {
      "metadata": {
        "id": "hHtpVtaN36pm",
        "colab_type": "code",
        "outputId": "f28f0172-1849-4773-c859-2662ee5c08d8",
        "colab": {
          "base_uri": "https://localhost:8080/",
          "height": 34
        }
      },
      "cell_type": "code",
      "source": [
        "sentiment_api_url = text_analytics_base_url + \"sentiment\"\n",
        "print(sentiment_api_url)"
      ],
      "execution_count": 0,
      "outputs": [
        {
          "output_type": "stream",
          "text": [
            "https://australiaeast.api.cognitive.microsoft.com/text/analytics/v2.0/sentiment\n"
          ],
          "name": "stdout"
        }
      ]
    },
    {
      "metadata": {
        "id": "exyGWHXK0J33",
        "colab_type": "code",
        "outputId": "a5f1f0a6-5dfd-447e-e342-ccd52f88bc8f",
        "colab": {
          "base_uri": "https://localhost:8080/",
          "height": 340
        }
      },
      "cell_type": "code",
      "source": [
        "response  = requests.post(sentiment_api_url, headers=headers, json=twi_document)\n",
        "sentiments = response.json()\n",
        "pprint(sentiments)\n"
      ],
      "execution_count": 0,
      "outputs": [
        {
          "output_type": "stream",
          "text": [
            "{'documents': [{'id': '1', 'score': 0.5},\n",
            "               {'id': '2', 'score': 0.7526739239692688},\n",
            "               {'id': '3', 'score': 0.9999815225601196},\n",
            "               {'id': '4', 'score': 0.5},\n",
            "               {'id': '5', 'score': 0.5},\n",
            "               {'id': '6', 'score': 0.5},\n",
            "               {'id': '7', 'score': 0.6961165070533752},\n",
            "               {'id': '8', 'score': 0.7526739239692688},\n",
            "               {'id': '9', 'score': 0.234133780002594},\n",
            "               {'id': '10', 'score': 0.22756776213645935},\n",
            "               {'id': '11', 'score': 0.5},\n",
            "               {'id': '12', 'score': 0.5},\n",
            "               {'id': '13', 'score': 0.989348292350769},\n",
            "               {'id': '14', 'score': 0.5},\n",
            "               {'id': '15', 'score': 0.5},\n",
            "               {'id': '16', 'score': 0.826758861541748},\n",
            "               {'id': '17', 'score': 0.8337629437446594},\n",
            "               {'id': '18', 'score': 0.3191928267478943}],\n",
            " 'errors': []}\n"
          ],
          "name": "stdout"
        }
      ]
    },
    {
      "metadata": {
        "id": "dba0aHfrgnVc",
        "colab_type": "code",
        "colab": {}
      },
      "cell_type": "code",
      "source": [
        ""
      ],
      "execution_count": 0,
      "outputs": []
    },
    {
      "metadata": {
        "id": "hS9Ykkc-gCdM",
        "colab_type": "text"
      },
      "cell_type": "markdown",
      "source": [
        "恭喜你，你已經完成如何使用twitter API和 Azure 文字分析API分析文字情感囉！由於Azure免費帳號每個月有3000的免費api可以呼叫，記得要常常回去檢查用了多少，還剩下多少。"
      ]
    }
  ]
}