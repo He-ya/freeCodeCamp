{
  "nbformat": 4,
  "nbformat_minor": 0,
  "metadata": {
    "colab": {
      "name": "Lab3.ipynb",
      "version": "0.3.2",
      "provenance": [],
      "collapsed_sections": [],
      "include_colab_link": true
    },
    "kernelspec": {
      "name": "python3",
      "display_name": "Python 3"
    }
  },
  "cells": [
    {
      "cell_type": "markdown",
      "metadata": {
        "id": "view-in-github",
        "colab_type": "text"
      },
      "source": [
        "<a href=\"https://colab.research.google.com/github/He-ya/freeCodeCamp/blob/master/Lab3.ipynb\" target=\"_parent\"><img src=\"https://colab.research.google.com/assets/colab-badge.svg\" alt=\"Open In Colab\"/></a>"
      ]
    },
    {
      "metadata": {
        "id": "g02tvz9RTF5T",
        "colab_type": "text"
      },
      "cell_type": "markdown",
      "source": [
        "# Lab 3. 建立自動化的PM2.5監視系統\n",
        "在這一個實驗中，我們要呼叫API，讓程式拿取目前的PM2.5的資料。然後再利用gropandas畫出台灣空汙地圖。\n",
        "\n",
        "首先，我們先安裝必要的Library\n",
        "## 安裝必要library\n",
        "使用pip安裝套件在notebook裡下載必要libraries。這邊最主要的是geopandas，他是一個類似Pandas套件的，但是是專門適合用來處理地理資訊的。"
      ]
    },
    {
      "metadata": {
        "id": "kxKFV3Ksb54q",
        "colab_type": "code",
        "outputId": "168aea01-9250-436a-eea9-214d2bfa45a4",
        "colab": {
          "base_uri": "https://localhost:8080/",
          "height": 972
        }
      },
      "cell_type": "code",
      "source": [
        "!pip install geopandas\n",
        "!pip install descartes\n",
        "!pip install pysal"
      ],
      "execution_count": 0,
      "outputs": [
        {
          "output_type": "stream",
          "text": [
            "Collecting geopandas\n",
            "\u001b[?25l  Downloading https://files.pythonhosted.org/packages/24/11/d77c157c16909bd77557d00798b05a5b6615ed60acb5900fbe6a65d35e93/geopandas-0.4.0-py2.py3-none-any.whl (899kB)\n",
            "\u001b[K    100% |████████████████████████████████| 901kB 22.7MB/s \n",
            "\u001b[?25hCollecting fiona (from geopandas)\n",
            "\u001b[?25l  Downloading https://files.pythonhosted.org/packages/51/d8/2a97aea07eed6675187c42411bfca30816dfdd6831c125c123bac74f0465/Fiona-1.8.4-cp36-cp36m-manylinux1_x86_64.whl (17.9MB)\n",
            "\u001b[K    100% |████████████████████████████████| 17.9MB 1.9MB/s \n",
            "\u001b[?25hCollecting shapely (from geopandas)\n",
            "\u001b[?25l  Downloading https://files.pythonhosted.org/packages/38/b6/b53f19062afd49bb5abd049aeed36f13bf8d57ef8f3fa07a5203531a0252/Shapely-1.6.4.post2-cp36-cp36m-manylinux1_x86_64.whl (1.5MB)\n",
            "\u001b[K    100% |████████████████████████████████| 1.5MB 10.0MB/s \n",
            "\u001b[?25hCollecting pyproj (from geopandas)\n",
            "\u001b[?25l  Downloading https://files.pythonhosted.org/packages/26/8c/1da0580f334718e04f8bbf74f0515a7fb8185ff96b2560ce080c11aa145b/pyproj-1.9.6.tar.gz (2.8MB)\n",
            "\u001b[K    100% |████████████████████████████████| 2.8MB 12.0MB/s \n",
            "\u001b[?25hRequirement already satisfied: pandas in /usr/local/lib/python3.6/dist-packages (from geopandas) (0.22.0)\n",
            "Collecting click-plugins>=1.0 (from fiona->geopandas)\n",
            "  Downloading https://files.pythonhosted.org/packages/95/dd/fef84cf1678418f241ef542c0288bdf215bdd3e35f1fe03dc5223a2e80ba/click_plugins-1.0.4-py2.py3-none-any.whl\n",
            "Requirement already satisfied: six>=1.7 in /usr/local/lib/python3.6/dist-packages (from fiona->geopandas) (1.11.0)\n",
            "Collecting munch (from fiona->geopandas)\n",
            "  Downloading https://files.pythonhosted.org/packages/68/f4/260ec98ea840757a0da09e0ed8135333d59b8dfebe9752a365b04857660a/munch-2.3.2.tar.gz\n",
            "Requirement already satisfied: click<8,>=4.0 in /usr/local/lib/python3.6/dist-packages (from fiona->geopandas) (7.0)\n",
            "Requirement already satisfied: attrs>=17 in /usr/local/lib/python3.6/dist-packages (from fiona->geopandas) (18.2.0)\n",
            "Collecting cligj>=0.5 (from fiona->geopandas)\n",
            "  Downloading https://files.pythonhosted.org/packages/e4/be/30a58b4b0733850280d01f8bd132591b4668ed5c7046761098d665ac2174/cligj-0.5.0-py3-none-any.whl\n",
            "Requirement already satisfied: pytz>=2011k in /usr/local/lib/python3.6/dist-packages (from pandas->geopandas) (2018.9)\n",
            "Requirement already satisfied: python-dateutil>=2 in /usr/local/lib/python3.6/dist-packages (from pandas->geopandas) (2.5.3)\n",
            "Requirement already satisfied: numpy>=1.9.0 in /usr/local/lib/python3.6/dist-packages (from pandas->geopandas) (1.14.6)\n",
            "Building wheels for collected packages: pyproj, munch\n",
            "  Running setup.py bdist_wheel for pyproj ... \u001b[?25l-\b \b\\\b \b|\b \b/\b \b-\b \b\\\b \b|\b \b/\b \b-\b \b\\\b \b|\b \b/\b \b-\b \b\\\b \b|\b \b/\b \b-\b \b\\\b \b|\b \b/\b \b-\b \b\\\b \b|\b \b/\b \b-\b \b\\\b \b|\b \b/\b \b-\b \b\\\b \b|\b \b/\b \b-\b \b\\\b \b|\b \b/\b \b-\b \b\\\b \b|\b \b/\b \b-\b \b\\\b \b|\b \b/\b \b-\b \b\\\b \b|\b \b/\b \b-\b \b\\\b \b|\b \b/\b \b-\b \b\\\b \b|\b \b/\b \b-\b \b\\\b \b|\b \b/\b \b-\b \b\\\b \b|\b \b/\b \b-\b \b\\\b \b|\b \b/\b \b-\b \b\\\b \b|\b \b/\b \b-\b \b\\\b \b|\b \b/\b \b-\b \b\\\b \b|\b \b/\b \b-\b \b\\\b \b|\b \b/\b \b-\b \b\\\b \b|\b \b/\b \b-\b \b\\\b \b|\b \b/\b \b-\b \b\\\b \b|\b \b/\b \b-\b \b\\\b \b|\b \b/\b \b-\b \bdone\n",
            "\u001b[?25h  Stored in directory: /root/.cache/pip/wheels/02/cd/b1/a2d6430f74c7a778a43d62f78bec109ca69c732dc9b929142a\n",
            "  Running setup.py bdist_wheel for munch ... \u001b[?25l-\b \bdone\n",
            "\u001b[?25h  Stored in directory: /root/.cache/pip/wheels/db/bf/bc/06a3e1bfe0ab27d2e720ceb3cff3159398d92644c0cec2c125\n",
            "Successfully built pyproj munch\n",
            "Installing collected packages: click-plugins, munch, cligj, fiona, shapely, pyproj, geopandas\n",
            "Successfully installed click-plugins-1.0.4 cligj-0.5.0 fiona-1.8.4 geopandas-0.4.0 munch-2.3.2 pyproj-1.9.6 shapely-1.6.4.post2\n",
            "Collecting descartes\n",
            "  Downloading https://files.pythonhosted.org/packages/e5/b6/1ed2eb03989ae574584664985367ba70cd9cf8b32ee8cad0e8aaeac819f3/descartes-1.1.0-py3-none-any.whl\n",
            "Requirement already satisfied: matplotlib in /usr/local/lib/python3.6/dist-packages (from descartes) (2.1.2)\n",
            "Requirement already satisfied: cycler>=0.10 in /usr/local/lib/python3.6/dist-packages (from matplotlib->descartes) (0.10.0)\n",
            "Requirement already satisfied: numpy>=1.7.1 in /usr/local/lib/python3.6/dist-packages (from matplotlib->descartes) (1.14.6)\n",
            "Requirement already satisfied: six>=1.10 in /usr/local/lib/python3.6/dist-packages (from matplotlib->descartes) (1.11.0)\n",
            "Requirement already satisfied: pyparsing!=2.0.4,!=2.1.2,!=2.1.6,>=2.0.1 in /usr/local/lib/python3.6/dist-packages (from matplotlib->descartes) (2.3.0)\n",
            "Requirement already satisfied: pytz in /usr/local/lib/python3.6/dist-packages (from matplotlib->descartes) (2018.9)\n",
            "Requirement already satisfied: python-dateutil>=2.1 in /usr/local/lib/python3.6/dist-packages (from matplotlib->descartes) (2.5.3)\n",
            "Installing collected packages: descartes\n",
            "Successfully installed descartes-1.1.0\n",
            "Collecting pysal\n",
            "\u001b[?25l  Downloading https://files.pythonhosted.org/packages/e6/e4/c4fb97674458dee71ce8dda517f6ad02c498518d26a0c4b8b692d741c3b9/PySAL-1.14.4.post2.tar.gz (17.9MB)\n",
            "\u001b[K    100% |████████████████████████████████| 17.9MB 1.9MB/s \n",
            "\u001b[?25hRequirement already satisfied: scipy>=0.11 in /usr/local/lib/python3.6/dist-packages (from pysal) (1.1.0)\n",
            "Requirement already satisfied: numpy>=1.3 in /usr/local/lib/python3.6/dist-packages (from pysal) (1.14.6)\n",
            "Building wheels for collected packages: pysal\n",
            "  Running setup.py bdist_wheel for pysal ... \u001b[?25l-\b \b\\\b \b|\b \b/\b \b-\b \b\\\b \b|\b \b/\b \b-\b \b\\\b \b|\b \b/\b \b-\b \b\\\b \b|\b \b/\b \b-\b \b\\\b \b|\b \b/\b \b-\b \b\\\b \bdone\n",
            "\u001b[?25h  Stored in directory: /root/.cache/pip/wheels/43/33/20/65692f75cb30834752a6cb566069d5e98ab209392f24bf5466\n",
            "Successfully built pysal\n",
            "Installing collected packages: pysal\n",
            "Successfully installed pysal-1.14.4.post2\n"
          ],
          "name": "stdout"
        }
      ]
    },
    {
      "metadata": {
        "id": "IxDEueTaNvEs",
        "colab_type": "code",
        "colab": {}
      },
      "cell_type": "code",
      "source": [
        "# OS相關的libraries\n",
        "import zipfile, io\n",
        "\n",
        "# 用來處理呼叫API的相關library\n",
        "import urllib.request, requests\n",
        "import json\n",
        "\n",
        "# 科學運算相關的library\n",
        "import pandas as pd\n",
        "import numpy as np\n",
        "\n",
        "# 視覺化套件的設計\n",
        "import matplotlib.pyplot as plt\n",
        "import geopandas as gp\n",
        "from IPython.display import display\n",
        "from pprint import pprint\n"
      ],
      "execution_count": 0,
      "outputs": []
    },
    {
      "metadata": {
        "id": "LXZTQe0OeW_E",
        "colab_type": "text"
      },
      "cell_type": "markdown",
      "source": [
        "## 取得PM2.5資料\n",
        "\n",
        "透過opendata API下載當下之有檢測PM2.5各鄉鎮之資料。這裡我們使用urllib這個library取得資料並使用pandas製作成Dataframe供後續處理。\n",
        "\n",
        "透過轉換成Dataframe的table格式，資料顯示搜集站台(Site)與縣市(County)。本lab將會把同縣市的PM2.5值平均後繪製成地圖。"
      ]
    },
    {
      "metadata": {
        "id": "Mu1u1aUyeBry",
        "colab_type": "code",
        "outputId": "9e56ae81-44e2-4305-d28a-27d0e0cb2fda",
        "colab": {
          "base_uri": "https://localhost:8080/",
          "height": 204
        }
      },
      "cell_type": "code",
      "source": [
        "with urllib.request.urlopen(\"http://opendata.epa.gov.tw/ws/Data/ATM00625/?$format=json\") as url:\n",
        "    #data = json.loads(url.read().decode())\n",
        "    pm25_df = pd.read_json(url.read())\n",
        "    display(pm25_df.head())\n",
        "    \n"
      ],
      "execution_count": 0,
      "outputs": [
        {
          "output_type": "display_data",
          "data": {
            "text/html": [
              "<div>\n",
              "<style scoped>\n",
              "    .dataframe tbody tr th:only-of-type {\n",
              "        vertical-align: middle;\n",
              "    }\n",
              "\n",
              "    .dataframe tbody tr th {\n",
              "        vertical-align: top;\n",
              "    }\n",
              "\n",
              "    .dataframe thead th {\n",
              "        text-align: right;\n",
              "    }\n",
              "</style>\n",
              "<table border=\"1\" class=\"dataframe\">\n",
              "  <thead>\n",
              "    <tr style=\"text-align: right;\">\n",
              "      <th></th>\n",
              "      <th>DataCreationDate</th>\n",
              "      <th>ItemUnit</th>\n",
              "      <th>PM25</th>\n",
              "      <th>Site</th>\n",
              "      <th>county</th>\n",
              "    </tr>\n",
              "  </thead>\n",
              "  <tbody>\n",
              "    <tr>\n",
              "      <th>0</th>\n",
              "      <td>2019-01-12 12:00</td>\n",
              "      <td>μg/m3</td>\n",
              "      <td>45</td>\n",
              "      <td>崙背</td>\n",
              "      <td>雲林縣</td>\n",
              "    </tr>\n",
              "    <tr>\n",
              "      <th>1</th>\n",
              "      <td>2019-01-12 12:00</td>\n",
              "      <td>μg/m3</td>\n",
              "      <td>1</td>\n",
              "      <td>富貴角</td>\n",
              "      <td>新北市</td>\n",
              "    </tr>\n",
              "    <tr>\n",
              "      <th>2</th>\n",
              "      <td>2019-01-12 12:00</td>\n",
              "      <td>μg/m3</td>\n",
              "      <td>35</td>\n",
              "      <td>麥寮</td>\n",
              "      <td>雲林縣</td>\n",
              "    </tr>\n",
              "    <tr>\n",
              "      <th>3</th>\n",
              "      <td>2019-01-12 12:00</td>\n",
              "      <td>μg/m3</td>\n",
              "      <td>7</td>\n",
              "      <td>關山</td>\n",
              "      <td>臺東縣</td>\n",
              "    </tr>\n",
              "    <tr>\n",
              "      <th>4</th>\n",
              "      <td>2019-01-12 12:00</td>\n",
              "      <td>μg/m3</td>\n",
              "      <td>13</td>\n",
              "      <td>馬公</td>\n",
              "      <td>澎湖縣</td>\n",
              "    </tr>\n",
              "  </tbody>\n",
              "</table>\n",
              "</div>"
            ],
            "text/plain": [
              "   DataCreationDate ItemUnit  PM25 Site county\n",
              "0  2019-01-12 12:00    μg/m3    45   崙背    雲林縣\n",
              "1  2019-01-12 12:00    μg/m3     1  富貴角    新北市\n",
              "2  2019-01-12 12:00    μg/m3    35   麥寮    雲林縣\n",
              "3  2019-01-12 12:00    μg/m3     7   關山    臺東縣\n",
              "4  2019-01-12 12:00    μg/m3    13   馬公    澎湖縣"
            ]
          },
          "metadata": {
            "tags": []
          }
        }
      ]
    },
    {
      "metadata": {
        "id": "xMxB5R-jNe-v",
        "colab_type": "text"
      },
      "cell_type": "markdown",
      "source": [
        "## 使用 Geopandas\n",
        "\n",
        "下面我們從政府的opendata處下載必要之圖資，此lab我們所使用的是台灣直轄市與縣市地圖。"
      ]
    },
    {
      "metadata": {
        "id": "i2CxvVDiJ7Wf",
        "colab_type": "code",
        "colab": {}
      },
      "cell_type": "code",
      "source": [
        "url = 'http://data.moi.gov.tw/MoiOD/System/DownloadFile.aspx?DATA=72874C55-884D-4CEA-B7D6-F60B0BE85AB0'\n",
        "\n",
        "\n",
        "r = requests.get(url)\n",
        "z = zipfile.ZipFile(io.BytesIO(r.content))\n",
        "z.extractall()"
      ],
      "execution_count": 0,
      "outputs": []
    },
    {
      "metadata": {
        "id": "U1w8xLzCX7Do",
        "colab_type": "text"
      },
      "cell_type": "markdown",
      "source": [
        "我們取出台灣鄉鎮市的shp圖資檔，解開後是一個Dataframe，讓我們看看前五個圖資的資訊。"
      ]
    },
    {
      "metadata": {
        "id": "qsIAlCjKeRJu",
        "colab_type": "code",
        "outputId": "2e2b7a74-9ce9-4080-c9e6-809c62910136",
        "colab": {
          "base_uri": "https://localhost:8080/",
          "height": 204
        }
      },
      "cell_type": "code",
      "source": [
        "taiwan_shp = gp.read_file(\"COUNTY_MOI_1070516.shp\", encoding = 'utf-8')\n",
        "\n",
        "display(taiwan_shp.head())"
      ],
      "execution_count": 0,
      "outputs": [
        {
          "output_type": "display_data",
          "data": {
            "text/html": [
              "<div>\n",
              "<style scoped>\n",
              "    .dataframe tbody tr th:only-of-type {\n",
              "        vertical-align: middle;\n",
              "    }\n",
              "\n",
              "    .dataframe tbody tr th {\n",
              "        vertical-align: top;\n",
              "    }\n",
              "\n",
              "    .dataframe thead th {\n",
              "        text-align: right;\n",
              "    }\n",
              "</style>\n",
              "<table border=\"1\" class=\"dataframe\">\n",
              "  <thead>\n",
              "    <tr style=\"text-align: right;\">\n",
              "      <th></th>\n",
              "      <th>COUNTYID</th>\n",
              "      <th>COUNTYCODE</th>\n",
              "      <th>COUNTYNAME</th>\n",
              "      <th>COUNTYENG</th>\n",
              "      <th>geometry</th>\n",
              "    </tr>\n",
              "  </thead>\n",
              "  <tbody>\n",
              "    <tr>\n",
              "      <th>0</th>\n",
              "      <td>Z</td>\n",
              "      <td>09007</td>\n",
              "      <td>連江縣</td>\n",
              "      <td>Lienchiang County</td>\n",
              "      <td>(POLYGON ((119.9644519140001 25.94552317400007...</td>\n",
              "    </tr>\n",
              "    <tr>\n",
              "      <th>1</th>\n",
              "      <td>G</td>\n",
              "      <td>10002</td>\n",
              "      <td>宜蘭縣</td>\n",
              "      <td>Yilan County</td>\n",
              "      <td>(POLYGON ((121.9597084550001 24.84493697000005...</td>\n",
              "    </tr>\n",
              "    <tr>\n",
              "      <th>2</th>\n",
              "      <td>N</td>\n",
              "      <td>10007</td>\n",
              "      <td>彰化縣</td>\n",
              "      <td>Changhua County</td>\n",
              "      <td>POLYGON ((120.4565526600001 24.20718620500008,...</td>\n",
              "    </tr>\n",
              "    <tr>\n",
              "      <th>3</th>\n",
              "      <td>M</td>\n",
              "      <td>10008</td>\n",
              "      <td>南投縣</td>\n",
              "      <td>Nantou County</td>\n",
              "      <td>POLYGON ((121.2708644380001 24.23660985400005,...</td>\n",
              "    </tr>\n",
              "    <tr>\n",
              "      <th>4</th>\n",
              "      <td>P</td>\n",
              "      <td>10009</td>\n",
              "      <td>雲林縣</td>\n",
              "      <td>Yunlin County</td>\n",
              "      <td>(POLYGON ((120.081077282 23.52412216400006, 12...</td>\n",
              "    </tr>\n",
              "  </tbody>\n",
              "</table>\n",
              "</div>"
            ],
            "text/plain": [
              "  COUNTYID COUNTYCODE COUNTYNAME          COUNTYENG  \\\n",
              "0        Z      09007        連江縣  Lienchiang County   \n",
              "1        G      10002        宜蘭縣       Yilan County   \n",
              "2        N      10007        彰化縣    Changhua County   \n",
              "3        M      10008        南投縣      Nantou County   \n",
              "4        P      10009        雲林縣      Yunlin County   \n",
              "\n",
              "                                            geometry  \n",
              "0  (POLYGON ((119.9644519140001 25.94552317400007...  \n",
              "1  (POLYGON ((121.9597084550001 24.84493697000005...  \n",
              "2  POLYGON ((120.4565526600001 24.20718620500008,...  \n",
              "3  POLYGON ((121.2708644380001 24.23660985400005,...  \n",
              "4  (POLYGON ((120.081077282 23.52412216400006, 12...  "
            ]
          },
          "metadata": {
            "tags": []
          }
        }
      ]
    },
    {
      "metadata": {
        "id": "QcoLkU6hPx3i",
        "colab_type": "text"
      },
      "cell_type": "markdown",
      "source": [
        "由於我們的圖資單位是縣市等級，我們把PM2.5全省觀測站的資料，使用groupby把同一個縣市的PM2.5作平均歸入同一縣市。"
      ]
    },
    {
      "metadata": {
        "id": "VWpThj3AnuEP",
        "colab_type": "code",
        "outputId": "2c17d04c-02db-4786-9dd9-b33841d87d14",
        "colab": {
          "base_uri": "https://localhost:8080/",
          "height": 204
        }
      },
      "cell_type": "code",
      "source": [
        "# 使用groupby \n",
        "\n",
        "final_df = pm25_df.groupby(['county'])['PM25'].mean()\n",
        "taiwan_shp['PM25'] = taiwan_shp['COUNTYNAME'].map(final_df) # Powerful\n",
        "\n",
        "display(taiwan_shp.head())"
      ],
      "execution_count": 0,
      "outputs": [
        {
          "output_type": "display_data",
          "data": {
            "text/html": [
              "<div>\n",
              "<style scoped>\n",
              "    .dataframe tbody tr th:only-of-type {\n",
              "        vertical-align: middle;\n",
              "    }\n",
              "\n",
              "    .dataframe tbody tr th {\n",
              "        vertical-align: top;\n",
              "    }\n",
              "\n",
              "    .dataframe thead th {\n",
              "        text-align: right;\n",
              "    }\n",
              "</style>\n",
              "<table border=\"1\" class=\"dataframe\">\n",
              "  <thead>\n",
              "    <tr style=\"text-align: right;\">\n",
              "      <th></th>\n",
              "      <th>COUNTYID</th>\n",
              "      <th>COUNTYCODE</th>\n",
              "      <th>COUNTYNAME</th>\n",
              "      <th>COUNTYENG</th>\n",
              "      <th>geometry</th>\n",
              "      <th>PM25</th>\n",
              "    </tr>\n",
              "  </thead>\n",
              "  <tbody>\n",
              "    <tr>\n",
              "      <th>0</th>\n",
              "      <td>Z</td>\n",
              "      <td>09007</td>\n",
              "      <td>連江縣</td>\n",
              "      <td>Lienchiang County</td>\n",
              "      <td>(POLYGON ((119.9644519140001 25.94552317400007...</td>\n",
              "      <td>8.000000</td>\n",
              "    </tr>\n",
              "    <tr>\n",
              "      <th>1</th>\n",
              "      <td>G</td>\n",
              "      <td>10002</td>\n",
              "      <td>宜蘭縣</td>\n",
              "      <td>Yilan County</td>\n",
              "      <td>(POLYGON ((121.9597084550001 24.84493697000005...</td>\n",
              "      <td>14.500000</td>\n",
              "    </tr>\n",
              "    <tr>\n",
              "      <th>2</th>\n",
              "      <td>N</td>\n",
              "      <td>10007</td>\n",
              "      <td>彰化縣</td>\n",
              "      <td>Changhua County</td>\n",
              "      <td>POLYGON ((120.4565526600001 24.20718620500008,...</td>\n",
              "      <td>44.000000</td>\n",
              "    </tr>\n",
              "    <tr>\n",
              "      <th>3</th>\n",
              "      <td>M</td>\n",
              "      <td>10008</td>\n",
              "      <td>南投縣</td>\n",
              "      <td>Nantou County</td>\n",
              "      <td>POLYGON ((121.2708644380001 24.23660985400005,...</td>\n",
              "      <td>30.333333</td>\n",
              "    </tr>\n",
              "    <tr>\n",
              "      <th>4</th>\n",
              "      <td>P</td>\n",
              "      <td>10009</td>\n",
              "      <td>雲林縣</td>\n",
              "      <td>Yunlin County</td>\n",
              "      <td>(POLYGON ((120.081077282 23.52412216400006, 12...</td>\n",
              "      <td>34.200000</td>\n",
              "    </tr>\n",
              "  </tbody>\n",
              "</table>\n",
              "</div>"
            ],
            "text/plain": [
              "  COUNTYID COUNTYCODE COUNTYNAME          COUNTYENG  \\\n",
              "0        Z      09007        連江縣  Lienchiang County   \n",
              "1        G      10002        宜蘭縣       Yilan County   \n",
              "2        N      10007        彰化縣    Changhua County   \n",
              "3        M      10008        南投縣      Nantou County   \n",
              "4        P      10009        雲林縣      Yunlin County   \n",
              "\n",
              "                                            geometry       PM25  \n",
              "0  (POLYGON ((119.9644519140001 25.94552317400007...   8.000000  \n",
              "1  (POLYGON ((121.9597084550001 24.84493697000005...  14.500000  \n",
              "2  POLYGON ((120.4565526600001 24.20718620500008,...  44.000000  \n",
              "3  POLYGON ((121.2708644380001 24.23660985400005,...  30.333333  \n",
              "4  (POLYGON ((120.081077282 23.52412216400006, 12...  34.200000  "
            ]
          },
          "metadata": {
            "tags": []
          }
        }
      ]
    },
    {
      "metadata": {
        "id": "7r1lYzsHSqDa",
        "colab_type": "text"
      },
      "cell_type": "markdown",
      "source": [
        "## 繪圖時間!\n",
        "\n",
        "接下來我們就開始畫PM2.5的地圖吧。首先我們要設定python的繪圖library - Matplotlib。"
      ]
    },
    {
      "metadata": {
        "id": "m_lXkH5pSoYt",
        "colab_type": "code",
        "outputId": "d44dd5e5-a088-49e3-f83c-fe07cb64e0e9",
        "colab": {
          "base_uri": "https://localhost:8080/",
          "height": 406
        }
      },
      "cell_type": "code",
      "source": [
        "vmin, vmax = 0, 100\n",
        "\n",
        "# 調整繪圖的參數\n",
        "fig, ax = plt.subplots(1, figsize=(10, 6))\n",
        "ax.axis('off')\n",
        "ax.set_title('Taiwan PM2.5 Map', fontdict={'fontsize': '25', 'fontweight' : '3'})\n",
        "ax.annotate('Source: DATA.GOV.TW, 2019',xy=(0.1, .08),  xycoords='figure fraction',\n",
        "            horizontalalignment='left', verticalalignment='top', fontsize=12, color='#555555')\n",
        "\n",
        "sm = plt.cm.ScalarMappable(cmap='Reds', norm=plt.Normalize(vmin=vmin, vmax=vmax))\n",
        "\n",
        "sm._A = []\n",
        "\n",
        "cbar = fig.colorbar(sm)\n",
        "\n",
        "taiwan_shp.plot(\n",
        "    edgecolor='black',\n",
        "    cmap=plt.cm.Reds, #指定顏色\n",
        "    column='PM25', #指定從自身的這個 column 讀取顏色深度,\n",
        "    #legend=True,\n",
        "    ax=ax\n",
        ")\n",
        "\n",
        "\n",
        "plt.show()"
      ],
      "execution_count": 0,
      "outputs": [
        {
          "output_type": "display_data",
          "data": {
            "image/png": "[encoded data removed]",
            "text/plain": [
              "<matplotlib.figure.Figure at 0x7f42d3ca54e0>"
            ]
          },
          "metadata": {
            "tags": []
          }
        }
      ]
    }
  ]
}