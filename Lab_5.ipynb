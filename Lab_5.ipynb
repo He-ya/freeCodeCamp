{
  "nbformat": 4,
  "nbformat_minor": 0,
  "metadata": {
    "colab": {
      "name": "Lab 5",
      "version": "0.3.2",
      "provenance": [],
      "include_colab_link": true
    },
    "kernelspec": {
      "name": "python3",
      "display_name": "Python 3"
    }
  },
  "cells": [
    {
      "cell_type": "markdown",
      "metadata": {
        "id": "view-in-github",
        "colab_type": "text"
      },
      "source": [
        "<a href=\"https://colab.research.google.com/github/He-ya/freeCodeCamp/blob/master/Lab_5.ipynb\" target=\"_parent\"><img src=\"https://colab.research.google.com/assets/colab-badge.svg\" alt=\"Open In Colab\"/></a>"
      ]
    },
    {
      "metadata": {
        "id": "qM1_KnDxUm-N",
        "colab_type": "text"
      },
      "cell_type": "markdown",
      "source": [
        "# PART 1: 抓取PTT文本"
      ]
    },
    {
      "metadata": {
        "id": "c2EhOWBS2rYq",
        "colab_type": "text"
      },
      "cell_type": "markdown",
      "source": [
        "首先先匯入必要的函式庫。\n",
        "    \n",
        "*   request：用來對伺服器送出特定request來抓回某頁的內容\n",
        "*   BeautifulSoup：用來解析HTML檔案\n",
        "\n"
      ]
    },
    {
      "metadata": {
        "id": "Y3aelBnd2nbO",
        "colab_type": "code",
        "colab": {}
      },
      "cell_type": "code",
      "source": [
        "import json\n",
        "import requests\n",
        "import time\n",
        "\n",
        "from bs4 import BeautifulSoup\n",
        "from bs4.element import NavigableString"
      ],
      "execution_count": 0,
      "outputs": []
    },
    {
      "metadata": {
        "id": "lOgjQp6E3fjO",
        "colab_type": "text"
      },
      "cell_type": "markdown",
      "source": [
        "首先，要抓八卦版的文章時，會跳出一個詢問是否18歲的頁面。我們要設置一個session來保持一些參數，讓我們假裝已經回答“已滿18歲“，以避這個詢問頁面跳出而打斷我們的爬蟲。這個session的資料就放在gossip_data中。"
      ]
    },
    {
      "metadata": {
        "id": "ah_u59nB2qAu",
        "colab_type": "code",
        "outputId": "1ff5ee80-cb27-4372-e08c-9526ecdb8828",
        "colab": {
          "base_uri": "https://localhost:8080/",
          "height": 34
        }
      },
      "cell_type": "code",
      "source": [
        "gossip_data = {\"from\":\"bbs/Gossiping/index.html\",\"yes\": \"yes\"}\n",
        "\n",
        "session=requests.session()\n",
        "requests.packages.urllib3.disable_warnings()\n",
        "session.post(\"https://www.ptt.cc/ask/over18\",verify=False,data=gossip_data)"
      ],
      "execution_count": 0,
      "outputs": [
        {
          "output_type": "execute_result",
          "data": {
            "text/plain": [
              "<Response [200]>"
            ]
          },
          "metadata": {
            "tags": []
          },
          "execution_count": 108
        }
      ]
    },
    {
      "metadata": {
        "id": "OsCdgF114z2p",
        "colab_type": "text"
      },
      "cell_type": "markdown",
      "source": [
        "接下來我們要開始準備抓八卦版(gossip)的網頁。我們先用一個變數存起來版名：Gossip。並設定兩個變數start和end，分別是指定我們要從哪一頁開始爬，爬到哪一頁結束。"
      ]
    },
    {
      "metadata": {
        "id": "9wTKDNtK4q4l",
        "colab_type": "code",
        "colab": {}
      },
      "cell_type": "code",
      "source": [
        "board=\"Gossiping\"\n",
        "start=1\n",
        "end=20\n",
        "crawl_range = range(start, end)"
      ],
      "execution_count": 0,
      "outputs": []
    },
    {
      "metadata": {
        "id": "AAvz7xPP49mb",
        "colab_type": "text"
      },
      "cell_type": "markdown",
      "source": [
        ""
      ]
    },
    {
      "metadata": {
        "id": "6uCm2a7H6Y-g",
        "colab_type": "code",
        "outputId": "81c8abd4-81fd-4025-de8d-fa11768f5ab8",
        "colab": {
          "base_uri": "https://localhost:8080/",
          "height": 54
        }
      },
      "cell_type": "code",
      "source": [
        "target_page = 'https://www.ptt.cc/bbs/' + board + '/index'\n",
        "\n",
        "target_pages = []\n",
        "for i in crawl_range:\n",
        "    target_pages.append(target_page+str(i)+\".html\")\n",
        "\n",
        "print(\"我抓到了這些頁：\",target_pages)"
      ],
      "execution_count": 0,
      "outputs": [
        {
          "output_type": "stream",
          "text": [
            "我抓到了這些頁： ['https://www.ptt.cc/bbs/Gossiping/index1.html', 'https://www.ptt.cc/bbs/Gossiping/index2.html', 'https://www.ptt.cc/bbs/Gossiping/index3.html', 'https://www.ptt.cc/bbs/Gossiping/index4.html', 'https://www.ptt.cc/bbs/Gossiping/index5.html', 'https://www.ptt.cc/bbs/Gossiping/index6.html', 'https://www.ptt.cc/bbs/Gossiping/index7.html', 'https://www.ptt.cc/bbs/Gossiping/index8.html', 'https://www.ptt.cc/bbs/Gossiping/index9.html', 'https://www.ptt.cc/bbs/Gossiping/index10.html', 'https://www.ptt.cc/bbs/Gossiping/index11.html', 'https://www.ptt.cc/bbs/Gossiping/index12.html', 'https://www.ptt.cc/bbs/Gossiping/index13.html', 'https://www.ptt.cc/bbs/Gossiping/index14.html', 'https://www.ptt.cc/bbs/Gossiping/index15.html', 'https://www.ptt.cc/bbs/Gossiping/index16.html', 'https://www.ptt.cc/bbs/Gossiping/index17.html', 'https://www.ptt.cc/bbs/Gossiping/index18.html', 'https://www.ptt.cc/bbs/Gossiping/index19.html']\n"
          ],
          "name": "stdout"
        }
      ]
    },
    {
      "metadata": {
        "id": "d3z3LDCwdHQA",
        "colab_type": "text"
      },
      "cell_type": "markdown",
      "source": [
        "接著，我們先抓取Gossip版中的每一頁中的文章的網址，存在target_pages"
      ]
    },
    {
      "metadata": {
        "id": "MLz1Y2917Nlm",
        "colab_type": "code",
        "colab": {}
      },
      "cell_type": "code",
      "source": [
        "article_urls = []\n",
        "for page in target_pages:\n",
        "    contents = []\n",
        "    \n",
        "    res  = session.get(page, verify=False)\n",
        "    soup = BeautifulSoup(res.text, \"lxml\")\n",
        "\n",
        "    #一個頁面中的每一篇文章的url\n",
        "    \n",
        "    for article in soup.select(\".r-ent\"):\n",
        "        try:\n",
        "            article_urls.append('https://www.ptt.cc'+ article.select(\".title\")[0].select(\"a\")[0].get(\"href\"))\n",
        "        except:\n",
        "            pass "
      ],
      "execution_count": 0,
      "outputs": []
    },
    {
      "metadata": {
        "id": "82ScXrycc6Bz",
        "colab_type": "text"
      },
      "cell_type": "markdown",
      "source": [
        "我們看一下，第一則的文章的網址和全部有幾個網址"
      ]
    },
    {
      "metadata": {
        "id": "xlQ65HBrc_mf",
        "colab_type": "code",
        "outputId": "6d05eaf4-56db-4e48-c7a1-c40b12304e76",
        "colab": {
          "base_uri": "https://localhost:8080/",
          "height": 52
        }
      },
      "cell_type": "code",
      "source": [
        "print(\"URL:\",article_urls[0])\n",
        "print(\"總共幾則\",len(article_urls))"
      ],
      "execution_count": 0,
      "outputs": [
        {
          "output_type": "stream",
          "text": [
            "URL: https://www.ptt.cc/bbs/Gossiping/M.1119222611.A.7A9.html\n",
            "總共幾則 380\n"
          ],
          "name": "stdout"
        }
      ]
    },
    {
      "metadata": {
        "id": "hMNdo7Hldgsb",
        "colab_type": "text"
      },
      "cell_type": "markdown",
      "source": [
        "有了這些網址，我們就按照這些網址，把每一篇文章給抓下來。\n",
        "抓下之後，我們可以看文章的原始檔，會發現文章的內容在#main-content這個tag下面，因此我們可以把這些字拿出來，供以後分析。這邊我們會設定文章長度的限制。因為太短的文章可能就是隨意的回文。因此如果文章長度沒有到30個字，我們就把它忽略，要大於等於30個字的文章，才會放進去我們的計算中。"
      ]
    },
    {
      "metadata": {
        "id": "IbHIOq6g9HeW",
        "colab_type": "code",
        "colab": {}
      },
      "cell_type": "code",
      "source": [
        "articles=[]\n",
        "\n",
        "for url in article_urls:\n",
        "    raw  = session.get(url, verify=False)\n",
        "    soup = BeautifulSoup(raw.text, \"lxml\")\n",
        "    try:\n",
        "        article=dict()\n",
        "        article[\"title\"]  = soup.select(\".article-meta-value\")[2].contents[0]\n",
        "        content = \"\"\n",
        "        for tag in soup.select(\"#main-content\")[0]:\n",
        "            if type(tag) is NavigableString and tag !='\\n':\n",
        "                content += tag\n",
        "                break\n",
        "                \n",
        "        if len(content)>=30:\n",
        "            article[\"content\"] = content\n",
        "            articles.append(article)\n",
        "    except:\n",
        "      pass\n"
      ],
      "execution_count": 0,
      "outputs": []
    },
    {
      "metadata": {
        "id": "3SnCEtseepZe",
        "colab_type": "text"
      },
      "cell_type": "markdown",
      "source": [
        "我們來看看每一個文章的標題吧！"
      ]
    },
    {
      "metadata": {
        "id": "c3H9vo-d4-lw",
        "colab_type": "code",
        "outputId": "60922eb8-8bd8-4802-a2a0-8caa4b900e74",
        "colab": {
          "base_uri": "https://localhost:8080/",
          "height": 6234
        }
      },
      "cell_type": "code",
      "source": [
        "for i in range(len(articles)):\n",
        "    print(i,articles[i]['title'])"
      ],
      "execution_count": 0,
      "outputs": [
        {
          "output_type": "stream",
          "text": [
            "0 第一耶！\n",
            "1 Re: (問題)華航空難留言\n",
            "2 Re: 有沒有明天會更好的八卦\n",
            "3 Re: 請問還有濁水溪公設的八卦嗎\n",
            "4 Re: (問題)華航空難留言\n",
            "5 [八卦] \n",
            "6 Re: [問題]職棒似乎又出現問題了...\n",
            "7 Re: [政商] 請問桌伯元的八卦?\n",
            "8 Re: [新聞] 張震月的八卦有嗎？\n",
            "9 Re: [政商] 請問桌伯元的八卦?\n",
            "10 Re: [名人] 有人記得高雄數學補教老師魚課斌嗎？\n",
            "11 [藝人] 釁悅糰的阿釁\n",
            "12 Re: [政商] 有羅文傢的八卦?\n",
            "13 Re: 有沒有米其淋的美食還是什麼評鑑八卦\n",
            "14 Re: 有沒有米其淋的美食還是什麼評鑑八卦\n",
            "15 Re: [問題]職棒似乎又出現問題了...\n",
            "16 Re: 誰有張憲義的八卦??\n",
            "17 Re: [藝人] 小紅恩\n",
            "18 Re: [政商] 有沒有前任管媒體局長林佳隆的八卦\n",
            "19 Re: [名人] 翁大院長岳生先生\n",
            "20 Re: [政商] 有沒有前任管媒體局長林佳隆的八卦\n",
            "21 [八卦] 海洋音樂祭的八卦\n",
            "22 Re: 有沒有駕訓班的八卦？\n",
            "23 Re: [八卦] 海洋音樂祭的八卦\n",
            "24 Re: [八卦] 謝長停的八卦\n",
            "25 Re: [八卦] 謝長停的八卦\n",
            "26 [藝人] 理欠蓉的小八卦\n",
            "27 Re: 南加大的全名是什麼?\n",
            "28 Re: [政商] 有沒有前任管媒體局長林佳隆的八卦\n",
            "29 Re: [新聞] 張震月的八卦有嗎？\n",
            "30 Re: 請問有維也納少年合唱團的八卦嗎\n",
            "31 Re: [政商] 有沒有前任管媒體局長林佳隆的八卦\n",
            "32 [八卦] 去國外的八卦\n",
            "33 Re: [八卦] 說一下沈副熊的八卦\n",
            "34 Re: [八卦] 說一下沈副熊的八卦\n",
            "35 Re: [八卦] 去國外的八卦\n",
            "36 Re: [藝人] 賈靜雯到底有沒有被騙？\n",
            "37 Re: 關於最近台日兩方漁業糾紛導致的反日內幕\n",
            "38 Re: [名人] 好萊塢的女星也有陪睡的情況嗎\n",
            "39 Re: [八卦] 去國外的八卦\n",
            "40 Re: 一些男藝人的性向八卦\n",
            "41 Re: [八卦] 說一下沈副熊的八卦\n",
            "42 Re: [名人] 有毆楊隆或副涓的八卦嗎?\n",
            "43 Re: [政商] 那我可不可以問一下陳奇邁的八卦? \n",
            "44 Re: 請問港星Grace葉佩雯\n",
            "45 Re: [前藝人] 有BOBO的八卦嗎  身材很好那個\n",
            "46 Re: 記得那個賣牛肉面辦大學的??\n",
            "47 Re: 經紀公司大姐Ammmmmmyyyy\n",
            "48 Re: [政商] 有照少康八卦嗎\n",
            "49 Re: [密報] 李慶鞍\n",
            "50 Re:  我想請問關於【南海血書】。\n",
            "51 Re: [政商] 那我可不可以問一下陳奇邁的八卦? \n",
            "52 Re: [藝人] 王腸--哈你\n",
            "53 Re: [政商] 有照少康八卦嗎\n",
            "54 Re: [問]有沒有183Glub的八卦阿?\n",
            "55 [八卦] 孫智號及依芳.\n",
            "56 Re: [政商] 有半導體轎夫張中哞的八卦嗎?\n",
            "57 Re: [藝人] 有星期天女孩的八卦嗎\n",
            "58 Re: [問]有沒有183Glub的八卦阿?\n",
            "59 有那些藝人有高學歷\n",
            "60 Re: [政商] 那我可不可以問一下陳奇邁的八卦? \n",
            "61 Re: [政商] 有半導體轎夫張中哞的八卦嗎?\n",
            "62 Re: [密報] 陳其賣\n",
            "63 Re: [藝人] Marlyin Manson \n",
            "64 Re: [藝人] Marlyin Manson\n",
            "65 Re: [新聞] 身負224億債務　孫道純被宣告破產\n",
            "66 Re: [藝人] Marlyin Manson \n",
            "67 [名人] 再爆一個政治小八掛(有立委和市議員)\n",
            "68 Re: 沒有人要談鄭進一嗎?\n",
            "69 Re: 張慢捐\n",
            "70 Re: [新聞] 有沒有911的八卦\n",
            "71 Re: [名人] 威蓮和他女朋友...\n",
            "72 Re: 有沒有〝信心教‘的八卦???\n",
            "73 Re: 有沒有〝信心教‘的八卦???\n",
            "74 Re: 王童為什麼可以當黃河男的乾女兒\n",
            "75 Re: 王童為什麼可以當黃河男的乾女兒\n",
            "76 [八卦]新聞哇哇噁找整形外科醫師充當牙醫師\n",
            "77 Re: 清大之愛 23人陪讀 救回失智同學\n",
            "78 Re: 我想請問余秋羽的八卦。\n",
            "79 Re: 有人知道黃國倫嗎？\n",
            "80 Re: 爆米花\n",
            "81 Re: 我想請問余秋羽的八卦。\n",
            "82 [藝人] （轉貼自中時）那年要拍內衣照 志玲哭了\n",
            "83 [政商] 院長的八卦\n",
            "84 Re: [問題] 侯移均\n",
            "85 Re: 有日本職棒選手清原合博的八卦嗎\n",
            "86 Re: 請問有張伯芝的八卦嗎?\n",
            "87 Re: [食品]請問哈跟達斯冰淇淋的八卦。\n",
            "88 Re: 有沒有K萬的八卦?\n",
            "89 Re: [食品]請問哈跟達斯冰淇淋的八卦。\n",
            "90 Re: 有人知道黃國倫嗎？\n",
            "91 Re: 有日本職棒選手清原合博的八卦嗎\n",
            "92 Re: [名人] 有關台大重訓室的肌肉阿北\n",
            "93 Re: [藝人] 請問渡部賭郎~\n",
            "94 Re: [藝人] 有星期天女孩的八卦嗎\n",
            "95 Re: [藝人] 請問渡部賭郎~\n",
            "96 Re: [食品]請問哈跟達斯冰淇淋的八卦。\n",
            "97 Re: [藝人] 請問渡部賭郎~\n",
            "98 Re: 王麗紅到底是不是gay?\n",
            "99 Re: [藝人] 想問林佑崴的八卦\n",
            "100 Re: 辜姓帥哥企業家的婚姻生活\n",
            "101 Re: [新聞] 我們是「F」4　F罩杯波霸團\n",
            "102 Re: [問題] 侯移均\n",
            "103 Re: [新聞] 我們是「F」4　F罩杯波霸團\n",
            "104 Re: 有日本職棒選手清原合博的八卦嗎\n",
            "105 Re: 為什麼大家這麼怕保板上灰\n",
            "106 Re: [藝人] 問一下有那個大鼻子孫月的八卦嗎\n",
            "107 Re: [藝人] 問一下有那個大鼻子孫月的八卦嗎\n",
            "108 Re: 請問一片歌手蕭消的八卦\n",
            "109 Re: 有沒有咖啡的八卦？\n",
            "110 Re: 摔角界的八卦\n",
            "111 Re: [藝人] 有石田醇醫的八卦嗎?\n",
            "112 Re: [新聞] 我們是「F」4　F罩杯波霸團\n",
            "113 Re: [新聞] 我們是「F」4　F罩杯波霸團\n",
            "114 Re: 有沒有富幫金控交易錯誤的八卦啊?\n",
            "115 Re: 請問有沒有磨門教的八卦??\n",
            "116 Re: [藝人]請問強尼戴普的八卦\n",
            "117 Re: 有神父驅魔的八卦嗎?\n",
            "118 Re: 有神父驅魔的八卦嗎?\n",
            "119 Re: 有肥雪跟杜汶則的八卦嗎??\n",
            "120 Re: [名人] 請問有澳洲游泳名將Ian Thorpe的八卦嗎\n",
            "121 Re: 有沒有青海吳尚獅的八掛呀?\n",
            "122 Re: 請問有關張雅秦\n",
            "123 Re: 有中油加油站的八卦嗎\n",
            "124 Re: [藝人] 有\"動近\"的八卦嗎??\n",
            "125 Re: 有沒有第三者的八卦?\n",
            "126 Re: 有沒有咖啡的八卦？\n",
            "127 Re: 問子蚊跟簡陰的八卦\n",
            "128 Re: 辜姓帥哥企業家的婚姻生活\n",
            "129 Re: [藝人] 歡獾的老公是江國彬?\n",
            "130 Re: 有神父驅魔的八卦嗎?\n",
            "131 Re: 有筆立的蠢事八卦嗎???\n",
            "132 Re: [政商] 有沒有檢察官的八卦？\n",
            "133 Re: [藝人] 歡獾的老公是江國彬?\n",
            "134 有那些名人是男顏薄命呢?\n",
            "135 Re: 有筆立的蠢事八卦嗎???\n",
            "136 Re: [藝人] 有沒有逃大尾欠錢的八卦??\n",
            "137 Re: 有沒有方心的八卦?\n",
            "138 Re: 請問有沒有真如苑的八卦\n",
            "139 Re: 有星巴喀的八卦嗎???\n",
            "140 Re: [政商] 楊照\n",
            "141 Re: [政商] 楊照\n",
            "142 Re: [政商] 有沒有檢察官的八卦？\n",
            "143 [八卦] 大童公司\n",
            "144 Re: [政商] 有沒有檢察官的八卦？\n",
            "145 Re: [藝人] 有沒有周潤伐的八卦嗎\n",
            "146 Re: [藝人] 有沒有周潤伐的八卦嗎\n",
            "147 Re: [密報] 五月添的阿釁\n",
            "148 想請問台中一中還有二中的兩個靈異八卦...\n",
            "149 Re: 有那些名人是男顏薄命呢?(尾崎豐)(照片有點可怕)\n",
            "150 Re: [政商] 有沒有檢察官的八卦？\n",
            "151 [密報] 報上最近寫的兔跳體罰事件\n",
            "152 Re: [新聞] 請問有虐貓情侶檔的八卦嗎?\n",
            "153 Re: [新聞] 拉娃電眼吸日本小開\n",
            "154 Re: [名人] 智商160到170的傢伙？\n",
            "155 [八卦] 黑心免洗筷\n",
            "156 Re: [名人] 有金庸的八卦？\n",
            "157 Re: 請問有陰宅的八卦嗎？\n",
            "158 Re: [八卦] 我所認識的張錫銘\n",
            "159 [八卦] 昨晚在天母遇到潘美岑\n",
            "160 Re: [問題] 請問台灣曾經要蓋迪士尼樂園的八卦？\n",
            "161 Re: [名人] 有金庸的八卦？\n",
            "162 Re: [名人] 有金庸的八卦？\n",
            "163 Re: 請問有白玲的八卦嗎?\n",
            "164 Re: [藝人] 幾個早逝巨星的子女現況?\n",
            "165 Re: 請問有貝克漢頭的八卦嘛\n",
            "166 [八卦] 有小仙女的八卦嗎？\n",
            "167 Re: [名人] 有沒南懷僅的八卦\n",
            "168 Re: 肌排是甚麼?\n",
            "169 Re: [問題] 請問台灣曾經要蓋迪士尼樂園的八卦？\n",
            "170 Re: [新聞] 台灣水男孩\n",
            "171 Re: [問題]AXN鐵拳新人王的八卦\n",
            "172 Re: 有沒有跑地方縣市路線記者的八卦?\n",
            "173 [名人] 有關鐘甜鷹獸\n",
            "174 Re: [名人] 請問有李立裙的消息嗎\n",
            "175 Re: [政商] 六盒集團\n",
            "176 Re: [問題]梁山伯與祝英台的英台\n",
            "177 Re: 有錢瑋杉的八卦嗎\n",
            "178 Re: 有RAIN或是喬妹八卦嗎\n",
            "179 Re: 有RAIN或是喬妹八卦嗎\n",
            "180 Re: 有李冠意的八卦嗎?\n",
            "181 Re: 有RAIN或是喬妹八卦嗎\n",
            "182 Re: SNAP的森且型\n",
            "183 Re: SNAP的森且型\n",
            "184 Re: [問題]既然都提到拜爾了，那就來問個拜爾的八 …\n",
            "185 Re: 惡作劇之刎的 柏原蟲和佐藤籃子\n",
            "186 Re: [藝人] 請問張雨笙\n",
            "187 Re: 有吳鎮雨的八卦嗎??\n",
            "188 Re: 有台中金錢抱的八卦嘛..?\n",
            "189 Re: [藝人] 洪愛力跟宋新尼..\n",
            "190 Re: 請問有人知道一個打過大聯盟的日本選手\n",
            "191 Re: 緯來啦啦隊  \n",
            "192 Re: 請問有人知道一個打過大聯盟的日本選手\n",
            "193 有六福春的八卦嗎\n",
            "194 Re: [新聞] 陳威陶：很愛她　說什麼都會傷害她...\n",
            "195 Re: 有哪些名人有毆妻的經驗呀\n",
            "196 Re: [藝人] 有沒有沉雷的八卦呢?\n",
            "197 Re: [藝人] 請問有郭世輪的八卦嗎\n",
            "198 Re: [名人] 請問《乞丐囝仔》賴東進的實情\n",
            "199 Re: [名人]有人知道日本的黛薇夫人嗎?\n",
            "200 Re: [藝人] 有沒有沉雷的八卦呢?\n",
            "201 Re: 有沒有東蔘購物的八卦\n",
            "202 張蒂\n",
            "203 [藝人] 王靜盈的老公根本不是豪門..\n",
            "204 Re: 有潘儀君的八卦嗎？\n",
            "205 Re: 有沒有東蔘購物的八卦\n",
            "206 Re: 請問有關瘋滑唱片公司的八卦嗎\n",
            "207 Re: 今天蘋狗日報...\n",
            "208 Re: [名人] 請問有達賴喇媽的八卦嗎？\n",
            "209 壹周刊:陳威陶婚後經常出入神旺飯店總統套房\n",
            "210 Re: 王靜瑩驚傳家暴?\n",
            "211 Re: [藝人] 請問有郭世輪的八卦嗎\n",
            "212 Re: {詢問}有沒有原衛覺興的八卦!!??\n",
            "213 Re: 王靜瑩驚傳家暴?\n",
            "214 Re: [藝人] 王靜盈的老公根本不是豪門..\n",
            "215 Re: [名人] 請問有達賴喇媽的八卦嗎？\n",
            "216 Re: 請問有沒有紅海的八卦？\n",
            "217 Re: 有沒有日本節目料理東西軍主持人的八卦?\n",
            "218 Re: [政商] 中正紀念堂是不是真的影響台灣經濟??\n",
            "219 Re: 有台電的八卦嗎?\n",
            "220 Re: [名人] 有沒有莫札特兒子的八卦..?\n",
            "221 Re: [八卦] 新聞越看越煩，來說一下王浸淫的事件。\n",
            "222 Re: 有沒有廉政公署的八掛\n",
            "223 Re: 有沒友關於前桃園縣長劉邦友的八卦阿~??\n",
            "224 [政商] 有沒有小布希的八卦阿\n",
            "225 Re: [政商] 有沒有小布希的八卦阿\n",
            "226 [閒聊]有關記者這個行業的二三事\n",
            "227 Re: [新聞] 我們是「F」4　F罩杯波霸團\n",
            "228 Re: [閒聊]有關記者這個行業的二三事\n",
            "229 Re: 求一個關於天母的八卦\n",
            "230 [八卦] 我所認識的小黑(與記者的對話)\n",
            "231 Re: [八卦] 陶晶贏\n",
            "232 2100大爆料整理。\n",
            "233 Re: 有沒有一個作家醫師的八卦?\n",
            "234 Re: [政商]s請問有沒有前立委馮不詳的八卦？\n",
            "235 Re: [名人] 超人Christopher Reeve 的八卦?\n",
            "236 Re: [八卦] 密雪微琪\n",
            "237 Re: 想問吳蛋如的八卦..\n",
            "238 Re: 想問吳蛋如的八卦..\n",
            "239 Re: 想問吳蛋如的八卦..\n",
            "240 Re: 想問吳蛋如的八卦..\n",
            "241 Re: [新聞] 有沒有捐卵的八卦？\n",
            "242 Re: [藝人] 想問內田有計的八卦\n",
            "243 Re: [藝人] 有沒有raim  雨先生的八卦阿？\n",
            "244 Re: [名人] 有無張有滑的八卦\n",
            "245 Re: 想問吳蛋如的八卦..\n",
            "246 [名人] 張善唯....\n",
            "247 Re: [八卦] 悠yo卡...\n",
            "248 Re: [問題]  鍾漢涼\n",
            "249 Re: 有闈廠的八卦嗎?\n",
            "250 Re: 現在寇乃新在教英文\n",
            "251 Re: [問題]有簡媜的八掛嗎\n",
            "252 Re: [名人]請問 辜仲諒的太太 的八卦\n",
            "253 [密報] 中國時報\n",
            "254 [密報]蛤蠣的八卦\n",
            "255 Re: 周猩猩\n",
            "256 Re: [密報]蛤蠣的八卦\n",
            "257 Re: 有闈廠的八卦嗎?\n",
            "258 Re: [密報]蛤蠣的八卦\n",
            "259 Re: [密報]蛤蠣的八卦\n",
            "260 Re: [藝人] 有羅美玲的消息嗎?\n",
            "261 Re: 天現寶寶\n",
            "262 Re: 天現寶寶\n",
            "263 Re: [問題]  21世季\n",
            "264 Re: [藝人] 誰還記得開心少女組?\n",
            "265 [八卦] 來爆個八卦好了,關於營建方面的\n",
            "266 Re: [藝人] 誰還記得開心少女組?\n",
            "267 [藝人] 伍佰要進軍美國啦！\n",
            "268 Re: 有沒有紅衣小女孩的八卦??\n",
            "269 Re: [八卦] 劉邦友血案...\n",
            "270 Re: [名人] 史上有哪些五星上將啊??\n",
            "271 [藝人]日本明星的八卦圖片\n",
            "272 Re: [政商] 有沒有遠東老闆徐旭東的八卦呀?\n",
            "273 [政商] 補寫阿丁跟長榮張董的故事\n",
            "274 Re: 有沒有香港小說家亦舒的八卦?\n",
            "275 Re: [八卦] 工商時報前某位記者八卦\n",
            "276 Re: [八卦] 先喝酒　又喝綠茶　男子飲後暴斃！\n",
            "277 Re: 關於民間救護車的八卦....\n",
            "278 Re: [八卦] 先喝酒　又喝綠茶　男子飲後暴斃！\n",
            "279 Re: 有沒有劉秀坪的八卦\n",
            "280 Re: 有沒有茶的八卦?\n",
            "281 Re: [八卦] 維粒大乾麵..\n",
            "282 Re: 我想問問單小霖的八卦\n",
            "283 Re: [名人] 史上有哪些五星上將啊??\n",
            "284 Re: 有沒有偷車賊的八卦？\n",
            "285 Re: 有林森北路日式酒店跟酒屋的八掛嗎?\n",
            "286 Re: [政商]請問江敏欽\n",
            "287 Re: 請問有沒有晚安少女組製作人　蠢軍的八卦？\n",
            "288 Re: 我想請問利精。\n",
            "289 [名人] 王立宏的一個外號\n",
            "290 Re: [政商]有沒有日剩銀行或證卷的八卦阿...\n",
            "291 [藝人] 挺挺的八卦\n",
            "292 Re: [藝人] 有孫耀喂現在的八卦嗎...\n",
            "293 ジャニーズ18歳、仙台で飲酒保護される\n",
            "294 Re: [綜藝]電視冠君\n",
            "295 Re: [藝人] 挺挺的八卦\n",
            "296 Re: 有核子武器的八卦嗎?\n",
            "297 Re: 有核子武器的八卦嗎?\n",
            "298 Re: [名人] 請問名人代言的費用的八卦\n",
            "299 Re: 鹽酥雞的八卦\n",
            "300 Re: [藝人] 高山瘋\n",
            "301 Re: 有沒有王文滑的八卦阿\n",
            "302 Re: [密報] 忠由今年 ...\n",
            "303 Re: [八卦] 有誰知道藝人都常去哪些髮廊呢\n",
            "304 Re: 鹽酥雞的八卦\n",
            "305 [八卦] 我所認識的小嘿\n",
            "306 Re: Area 51 \n",
            "307 [八卦]我知道的幾個八卦\n",
            "308 Re: [八卦] 有關ptt的站長群\n",
            "309 Re: 有七朵花中賴維如的八卦嘛??\n",
            "310 Re: [藝人] 請問小A死的八卦\n",
            "311 Re: [名人] 有沒有陸雲生的八卦阿?\n",
            "312 Re: 想問一下王曉書~~\n",
            "313 Re: [名人] 有沒有陸雲生的八卦阿?\n",
            "314 Re: [名人] 有沒有陸雲生的八卦阿?\n",
            "315 Re: 有可口可樂的八卦嗎?\n",
            "316 Re: 有基努李維的八卦嗎？\n",
            "317 Re: 有基努李維的八卦嗎？\n",
            "318 Re: [八卦] 有沒有人有鶴軍祥的八卦阿 \n",
            "319 Re: [名人]有River Phoenix的八卦嗎\n",
            "320 Re: [名人]有River Phoenix的八卦嗎 \n",
            "321 Re: [藝人] 李小龍的八掛\n",
            "322 Re: [藝人] 許瑋輪\n",
            "323 Re: 有沒有外勞仲介業的8卦\n",
            "324 [藝人] 檳狼兄弟\n",
            "325 Re: [名人]有River Phoenix的八卦嗎 \n",
            "326 馬英九的好笑八卦..\n",
            "327 [八卦] 我所認識的小嘿\n",
            "328 Re: 我想問龍久的八卦\n",
            "329 Re: [藝人] 有九恐的八卦嗎? \n",
            "330 幾個日本當紅偶像的兄弟姐妹\n",
            "331 Re: [藝人] 有九恐的八卦嗎? \n",
            "332 Re: [藝人] 有九恐的八卦嗎? \n",
            "333 Re: 請問有屁屁音樂網的八卦嗎?\n",
            "334 Re: 請問有屁屁音樂網的八卦嗎?\n",
            "335 Re: 有沒有轉運手之戀裡爸爸的八卦\n",
            "336 Re: [藝人] 想問friends的那六位演員...\n",
            "337 Re: [藝人] 想問friends的那六位演員...\n",
            "338 Re: [藝人] 想問friends的那六位演員...\n",
            "339 Re: [八卦] 有沒有星巴克的八卦\n",
            "340 Re: [藝人] 有柯宇倫的八卦嗎\n",
            "341 Re: 牛特拉公司為什麼勝訴了?\n",
            "342 Re: 唱現場很難聽的藝人有誰呀\n",
            "343 配音員\n",
            "344 Re: 請問有KKcity的八卦嗎\n",
            "345 Re: 我想知道牙膏牙刷的八卦\n",
            "346 Re: [藝人] 請問B's跟濱崎不的八卦\n",
            "347 [密報] 張韶含跟顏行輸\n",
            "348 Re: 請問沈澱峽的八卦..\n",
            "349 Re: 有藤木直仁的八卦嗎\n",
            "350 Re: 藝人上酒店\n",
            "351 Re: 請問有沒有慾望城事的八卦\n",
            "352 Re: [導演] 請問有徐客的八卦嗎?\n",
            "353 [八卦] 我所認識的小黑\n",
            "354 [名人] 日本編劇家野島壽司這位歐吉桑\n",
            "355 [八卦] 我所認識的小黑\n",
            "356 Re: [藝人] 有孫星的八掛嗎\n",
            "357 Re: [歷史]汶萊有沒有什麼八卦? \n"
          ],
          "name": "stdout"
        }
      ]
    },
    {
      "metadata": {
        "id": "V0rCyTnDUXCL",
        "colab_type": "text"
      },
      "cell_type": "markdown",
      "source": [
        "太好了！我們成功將PTT的八卦版文章抓下來了"
      ]
    },
    {
      "metadata": {
        "id": "o7fjrojqUdox",
        "colab_type": "text"
      },
      "cell_type": "markdown",
      "source": [
        "# PART 2: 找出相似文章"
      ]
    },
    {
      "metadata": {
        "id": "uAKQyfddUtj1",
        "colab_type": "text"
      },
      "cell_type": "markdown",
      "source": [
        "首先我們要安裝jieba函式庫，並下載繁中字典"
      ]
    },
    {
      "metadata": {
        "id": "N9fS355B0Hvi",
        "colab_type": "code",
        "outputId": "01499e2d-887c-49a9-ef43-6a6cd096c3be",
        "colab": {
          "base_uri": "https://localhost:8080/",
          "height": 34
        }
      },
      "cell_type": "code",
      "source": [
        "!pip install jieba"
      ],
      "execution_count": 0,
      "outputs": [
        {
          "output_type": "stream",
          "text": [
            "Requirement already satisfied: jieba in /usr/local/lib/python3.6/dist-packages (0.39)\n"
          ],
          "name": "stdout"
        }
      ]
    },
    {
      "metadata": {
        "id": "BUZiwrkG0IWR",
        "colab_type": "code",
        "outputId": "57399bf3-2b27-4f5a-b007-1225f10190aa",
        "colab": {
          "base_uri": "https://localhost:8080/",
          "height": 384
        }
      },
      "cell_type": "code",
      "source": [
        "!wget https://www.dropbox.com/s/ikv3n0fzb218vgn/dict.txt.big"
      ],
      "execution_count": 0,
      "outputs": [
        {
          "output_type": "stream",
          "text": [
            "--2018-12-26 16:24:18--  https://www.dropbox.com/s/ikv3n0fzb218vgn/dict.txt.big\n",
            "Resolving www.dropbox.com (www.dropbox.com)... 162.125.8.1, 2620:100:601b:1::a27d:801\n",
            "Connecting to www.dropbox.com (www.dropbox.com)|162.125.8.1|:443... connected.\n",
            "HTTP request sent, awaiting response... 301 Moved Permanently\n",
            "Location: /s/raw/ikv3n0fzb218vgn/dict.txt.big [following]\n",
            "--2018-12-26 16:24:18--  https://www.dropbox.com/s/raw/ikv3n0fzb218vgn/dict.txt.big\n",
            "Reusing existing connection to www.dropbox.com:443.\n",
            "HTTP request sent, awaiting response... 302 Found\n",
            "Location: https://uc98b397544944bd83417e3ab22e.dl.dropboxusercontent.com/cd/0/inline/AYPLOm7WObt4-kb4voPGvKGNHnAjsdN4uULnxiRwoBI0XO8jUPrD-VIVzg2YjtyEc53DdHVm2M-u92xsERPHTJLYjy9Wqte76mAnVWx2clkAfTdNnTsge-16PUsPBx3nxKAgMDlmHAVroc-ekv8OEXMsuaCSvkXsFhuZR-zfJpr_8YKeYqtsVWWyc1SOoikFWV4/file [following]\n",
            "--2018-12-26 16:24:19--  https://uc98b397544944bd83417e3ab22e.dl.dropboxusercontent.com/cd/0/inline/AYPLOm7WObt4-kb4voPGvKGNHnAjsdN4uULnxiRwoBI0XO8jUPrD-VIVzg2YjtyEc53DdHVm2M-u92xsERPHTJLYjy9Wqte76mAnVWx2clkAfTdNnTsge-16PUsPBx3nxKAgMDlmHAVroc-ekv8OEXMsuaCSvkXsFhuZR-zfJpr_8YKeYqtsVWWyc1SOoikFWV4/file\n",
            "Resolving uc98b397544944bd83417e3ab22e.dl.dropboxusercontent.com (uc98b397544944bd83417e3ab22e.dl.dropboxusercontent.com)... 162.125.7.6, 2620:100:601b:6::a27d:806\n",
            "Connecting to uc98b397544944bd83417e3ab22e.dl.dropboxusercontent.com (uc98b397544944bd83417e3ab22e.dl.dropboxusercontent.com)|162.125.7.6|:443... connected.\n",
            "HTTP request sent, awaiting response... 200 OK\n",
            "Length: 8583143 (8.2M) [text/plain]\n",
            "Saving to: ‘dict.txt.big’\n",
            "\n",
            "dict.txt.big        100%[===================>]   8.18M  47.9MB/s    in 0.2s    \n",
            "\n",
            "2018-12-26 16:24:19 (47.9 MB/s) - ‘dict.txt.big’ saved [8583143/8583143]\n",
            "\n"
          ],
          "name": "stdout"
        }
      ]
    },
    {
      "metadata": {
        "id": "I2pgC51giPUJ",
        "colab_type": "text"
      },
      "cell_type": "markdown",
      "source": [
        "首先我們引入jieba函式庫，這是個用來處理中文斷詞的函式庫。"
      ]
    },
    {
      "metadata": {
        "id": "yzcCyAUuVKS4",
        "colab_type": "code",
        "colab": {}
      },
      "cell_type": "code",
      "source": [
        "import jieba\n",
        "import jieba.analyse"
      ],
      "execution_count": 0,
      "outputs": []
    },
    {
      "metadata": {
        "id": "ReG38nPpiazb",
        "colab_type": "text"
      },
      "cell_type": "markdown",
      "source": [
        "接著，我們載入繁中的字典"
      ]
    },
    {
      "metadata": {
        "id": "LvLuSCAYVLz9",
        "colab_type": "code",
        "colab": {}
      },
      "cell_type": "code",
      "source": [
        "jieba.set_dictionary('dict.txt.big')"
      ],
      "execution_count": 0,
      "outputs": []
    },
    {
      "metadata": {
        "id": "83MSCgaPifh4",
        "colab_type": "text"
      },
      "cell_type": "markdown",
      "source": [
        "現在我們要把每一篇文章的關鍵字求出來。keywords是一個list，其中第1個元素就是第1篇文章的關鍵字們，依此類推。"
      ]
    },
    {
      "metadata": {
        "id": "roFDqsiFV1uR",
        "colab_type": "code",
        "colab": {}
      },
      "cell_type": "code",
      "source": [
        "keywords = []\n",
        "\n",
        "for i in range(len(articles)):\n",
        "    keywords.append(jieba.analyse.extract_tags(articles[i]['content'],topK=20, withWeight=True))"
      ],
      "execution_count": 0,
      "outputs": []
    },
    {
      "metadata": {
        "id": "LWeE4ppDi2KT",
        "colab_type": "text"
      },
      "cell_type": "markdown",
      "source": [
        "來看看第一篇文章的關鍵字！"
      ]
    },
    {
      "metadata": {
        "id": "yRCEHFT6W51j",
        "colab_type": "code",
        "outputId": "1aff5e4d-ed90-4abd-bedc-eee0de5222ec",
        "colab": {
          "base_uri": "https://localhost:8080/",
          "height": 54
        }
      },
      "cell_type": "code",
      "source": [
        "print(keywords[0])"
      ],
      "execution_count": 0,
      "outputs": [
        {
          "output_type": "stream",
          "text": [
            "[('Beauty', 0.27801784890465114), ('娛樂', 0.27801784890465114), ('二度', 0.2280542579011628), ('Gossiping', 0.13900892445232557), ('綜合', 0.13900892445232557), ('記者', 0.13900892445232557), ('抄襲', 0.13900892445232557), ('HOTlinkinpork', 0.13900892445232557), ('Hate', 0.13900892445232557), ('期末考', 0.13900892445232557), ('HOTloverlover', 0.13900892445232557), ('ci', 0.13900892445232557), ('FORMULA1', 0.13900892445232557), ('賽車', 0.13900892445232557), ('Sad', 0.13900892445232557), ('GRAND', 0.13900892445232557), ('PRIX', 0.13900892445232557), ('HOTMSCHUMACHER', 0.13900892445232557), ('sex', 0.13900892445232557), ('原來', 0.13900892445232557)]\n"
          ],
          "name": "stdout"
        }
      ]
    },
    {
      "metadata": {
        "id": "gYDstL9sjHRj",
        "colab_type": "text"
      },
      "cell_type": "markdown",
      "source": [
        "接著，我們將對每一篇文章有意義的字串起來，把他視為是該文章的總結"
      ]
    },
    {
      "metadata": {
        "id": "ETZH4svwabaO",
        "colab_type": "code",
        "colab": {}
      },
      "cell_type": "code",
      "source": [
        "fenci_str=[]\n",
        "\n",
        "for x in keywords:\n",
        "    keys = \"\"\n",
        "    for i in range(len(x)):\n",
        "        keys = keys + str(x[i][0])\n",
        "        if i!=len(x)-1:\n",
        "            keys = keys + \" \"\n",
        "    fenci_str.append(keys)"
      ],
      "execution_count": 0,
      "outputs": []
    },
    {
      "metadata": {
        "id": "3h1oGSx7ao5H",
        "colab_type": "code",
        "outputId": "39059ec4-d5c5-4dc7-b7d4-20442f7a0c2d",
        "colab": {
          "base_uri": "https://localhost:8080/",
          "height": 6234
        }
      },
      "cell_type": "code",
      "source": [
        "fenci_str"
      ],
      "execution_count": 0,
      "outputs": [
        {
          "output_type": "execute_result",
          "data": {
            "text/plain": [
              "['Beauty 娛樂 二度 Gossiping 綜合 記者 抄襲 HOTlinkinpork Hate 期末考 HOTloverlover ci FORMULA1 賽車 Sad GRAND PRIX HOTMSCHUMACHER sex 原來',\n",
              " '讀者文摘 737 沒有 後來 這架 客機 油料 滑翔翼 這推文 一個 飛機 沒油 現憑 寫文 有錯 報告 中是 導致 加滿 架飛機',\n",
              " '反盜版 當年 捐給 消基會 理由 捐錢 給消 基會 美國 WORLD 之後 台灣 這些 覺得 如法泡製 國家 人民富足 實在 於是 拿來',\n",
              " '鼓手 濁水 小柯 濁水溪 紀錄片 左派 後來 ... 貝斯手 離團 場合 音樂 問題 高尚 公社 吉他手 早期 霹靂 四號 時候',\n",
              " '上將 總司令 直升機 空難 陸軍 當時 官階 還有 不過 將軍 這位 上尉 講到 民國 63 演習 曾經 發生 有史以來 嚴重',\n",
              " '張大帥 台灣 球隊 兩次 他們 友人 職棒 總共 隊伍 主場 火鍋店 光顧 幾次 親眼看到 身邊 一樣 後援會 幫忙 豐富 萬人迷',\n",
              " '新竹 顧客 球衣 綠色 我們 母公司 橘色 執業 理髮師 一個 職棒 組頭 給我 根據 每隊 每個 地區 一樣 上來 農藥',\n",
              " '井田 縣長 立委 最後 彰化縣 國民黨 桌伯元 KMT 因為 文宣 還有 沒有 伯元 的詩 有點 來說 縣議員 當選 葉津諷 不過',\n",
              " '記者 有沒有 覺得 出來 路加宜 媽媽 這樣 巴拉巴 聽到 問張 結婚 很煩 變成 幫張 據說 報導 諒解 生氣 質問 張為',\n",
              " '大學 國立 彰化縣 八卦 桌伯元 法學碩士 台灣 學士 海洋大學 法學 碩士 縣長 副縣長 國民黨 團副 書記長 議員 兩屆 靜宜 及大葉',\n",
              " '據說 同學 醫科 超醫班 後來 聯考 第一班 數學 名師 發現 書卷 畢業 重考 一屆 前立行 最後 榜單 上課 當年 馬上',\n",
              " '阿釁 然後 筱划 時候 現在 要講 po 有關 團費 賭博 pub 或許 因為 對著 我們 寰還 結果 這時 那時快 頭上',\n",
              " '發現 算不算 八卦 部落 知道 就是',\n",
              " '米其林 輪胎 手冊 發行 自動車 自行車 機車 車主 何處 更換 1926 他們 創造 獨有 星級 不過 這時 變成 只賣 帶來',\n",
              " '米其林 餐廳 Gault Millau 評鑑 指南 自殺 法國 餐飲 依據 三星 非常 將他 降為 2003 滿分 20 認為 雖然 兩本',\n",
              " '... 海豚 當時 投手 球員 地獄 電腦 應該 總教練 朋友 八卦 因為 隊員 他們 一個 冠王 還有 其實 選手 內部',\n",
              " '專題 新聞 間諜 17 張憲義 現居 美國 愛州 叛逃',\n",
              " '一個 科以 同學 現在 姊姊 中國 那麼 喜歡 小紅恩 節目 因為 這是 小遇兒 覺得 製作 遇兒 鏡頭 整個 搧風 國光',\n",
              " '學長 夫婦 學姊 耶魯 他們 學弟 時期 論文 學生 熱心 我們 印象 八卦 分格 感情 助人 她們 唸書 溫馨 說林',\n",
              " '.. ... 老師 阿扁 當初 法學院 其實 可怕 根據 林群弼 借給 唸書 有時候 裡面 當然 還滿 報導 去當 美麗 島的',\n",
              " '學運 學妹 當時 總統 富家女 時候 然後 認識 什麼 林在 林先生 革命 糟糠 關於 傳聞 最盛 還是 同學 結識 發展',\n",
              " 'Dylan 邀請 因為 主辦人 其實 Bob 興趣 聽說 熱帶 島嶼 上級 再說 南洋 理由 高度 訪問 音樂 開始 時候 表現',\n",
              " '監理 考照 駕照 參加 人員 監考 開車 不過 後來 拿到 代考 應該 沒有 有國 老師 駕訓班 借車 撫遠 悠路練 一個',\n",
              " '沒聽過 功課 我查 記憶 別人 google 你查 靠不住 八卦 果然',\n",
              " '謝長廷 老師 還是 扶輪社 後來 陳進興 台灣 身邊 旁邊 認識 這些 八卦 乘客 助理 幕僚 高雄人 台北人 民意代表 那時 沒事幹',\n",
              " '山區 因為 媽媽 選舉 台北市 立委 大直 現在 後來 事業有成 時候 戶口 謝在 活動 之類 打坐 台北 所以 來說 點謝',\n",
              " '同學 理欠蓉 ... 學說 店長 Anna Sui 櫃上 兩位 我們 店員 那時 樣子 你們 當然 九折 婉拒 少奶奶 戒指 真的',\n",
              " '.. 同學 不過 我們 那裡 台灣 有錢 沒有 紅酒 第三代 真的 英文 刷掉 博士班 難進 進去 兩年 變得 上課 老師',\n",
              " '人馬 新系 林家 還有 據說 扁家 哪邊 扁系 發言人 講到 這個 政壇 阿扁 那麼 身邊 監軍 扁派 諸如 羅文 永承',\n",
              " '學校 學長 後來 學弟 聽說 教官 好像 結果 當初 我們 記得 這位 一個 校長 行為 因為 就問 參加 休學 回來',\n",
              " '男高音 閹割 聲音 這些 歌劇 角色 所謂 還小 時候 他們 經過 訓練 長大成人 起來 根據 當時 說法 一種 無法 還因',\n",
              " '鄰家 遊行 學生 廖偉 沒有 當時 之後 教授 台大 事實 不會 兩人 悔過書 出國 運動 會議 改革派 其實 出來 校內',\n",
              " '1v 東西 對方 朋友 還是 他們 法國 時候 大陸 答應 她們 歐元 當時 進去 不過 因為 後來 之後 然後 這樣',\n",
              " '台灣 立委 相關 當初 DPP 迴避 之後 台安 聽說 當時 還沒 開放 新藥時 軒然大波 專業 意見 審查 健保法 黨談 沒有',\n",
              " '這些 要說 他們 什麼 醫療 不讓 沈去 老沈是 腎臟科 不爽 政客 一杯 不到 政治',\n",
              " '我們 時候 LV 一個 大陸 不過 以後 阿姨 還有 進去 應該 潛逃 東西 退稅 香榭 包包 一整天 大道 那天 2000',\n",
              " '假靜文 瓜哥 節目 白劍英 裙子 好像 主持 收視率 瓜哥力 傳出 曖昧關係 這個 報上 看過 綜藝 之類 菜市場 名稱 那時 飛龍在天',\n",
              " '經濟 天然氣 價值 的話 1000 釣魚 爭議 什麼 漁權 蘊含 豐富 據說 大陸 110 70 換算 日幣 200 日圓 分給',\n",
              " '畢竟 這些 女兒 上床 真性情 瑪丹娜紅 的確 爬上來 開始 DJ 隨後 換人 這樣 機會 發揮 不單 單靠 辦法 超過 20',\n",
              " '他們 LV 因為 限量 其實 然後 這樣 利潤 日本 台灣 現在 大陸 一個 比較 不過 法國 什麼 這些 包包 朋友',\n",
              " '今勤 補習班 gay 櫃台 我們 人緣 當時 ...... 什麼 一個 演戲 這位 潘先生 朋友 漂亮 妹妹 香郁 學時 記得 世新',\n",
              " '議員 時候 幫忙 競選 掃街 覺得 那個 感覺 工讀生 上車 髒話 剛剛 親切 一康 助理 子弟兵 拉票 應該 劉耀人 幾年',\n",
              " '小姐 ..... 歐陽 他們 spa 那裡 因為 開始 什麼 ... 可是 再往 老公 按摩 老婆 不能 和樂 樣子 我講 一個',\n",
              " '多麼 這是 中時晚報 總統府 記者 文筆 市長 319 喜歡 水餃 .................. 暗喻 去年 八卦 代理 家中 地位',\n",
              " '澳門 梁小姐 媽媽 學校 八卦 同學 讀書 ...... 香港 講到 梁洛師 出來 這個 其實 是從 過去 發展 後來 認識 一個',\n",
              " '因為 一個 然後 之後 什麼 房間 節目 時候 父親 男生 .... 還有 ... 上網 小姐 推拿 完全 xx 這個 發生',\n",
              " '阿銘 一個 .. 簡單 那個 要辦 該校 籌備處 創校 資金不足 出來 做廣告 罷了 不過 這些 腦袋 什麼 因為 覺得 這樣',\n",
              " '藝人 經營 窮搖 酸梅 很會 覺得 因為 後來 也許 寶座 小燕子 苦瓜 演技 女主角 推上 一直 屁屁 其實 吳陳君 並不',\n",
              " '一個 因為 女兒 前妻 小孩 兔唇 還有 離婚 後來 國民黨 大老梁 宿容 結婚 覺得 幫助 .. 八卦 健全 疾病 生命',\n",
              " '言午 老師 立委 學校 .... 因為 學生 李大 教室 一個 李慶鞍 然後 時候 我們 罰站 班級 ... 全校 體罰 同學',\n",
              " '不過 父親 結果 最後 還是 中間 故事 小孩 大家 假造 我講 細節 記錯 水深火熱 大陸同胞 記得 越共 共產 後來 改喝',\n",
              " '.. 模範生 助理 據說 ... 大會 結果 流程 一個 那個 會場 校長 還是 感覺 馬屁 負責 這個 市長 發問 堅持',\n",
              " '... 配唱 專輯 某個 女歌手 考卷 卡拉 有料 這個 為何 一個 音樂系 學姐 因為 所學 關係 曾經 介紹 錄音室 問題',\n",
              " 'new 少康 職位 議員 不過 競選 大廈 校長 開始 什麼 當時 媒體 因為 實力 選舉 後來 創黨 一個 總經理 全委會',\n",
              " '當初 他們 7788 其實 藝人 好像 一八 原本 孫得蓉 這個 湊西 內部 成員 調動 最後 確定 幾個 團體 娘府 舞男',\n",
              " '依芳 台灣 不錯 名機 媒體 當時 因為 友人 認識 當天 眼紅 兩位 開車 18 KY 對於 八卦 本人 條件 總會',\n",
              " '所長 教父 化工 現在 經濟部 宮研院 院長 時候 老婆 據說 張在當 職務 出國 然後 不在 國內 約會 記得 當時 戴綠帽',\n",
              " '池袋 安藤裕子 由愛紗 發行 個人專輯 公園 遠藤舞 拍過 Wacoal 內衣 廣告 ZST 摔角 聯盟 Ring Girl 佐藤 藝名 鈴香 客串',\n",
              " '滾石 完子 聽說 本來 後來 還是 裡面 好像 叫做 黃玉 時候 一員 沒錯 那個 很白爛 不紅 喜歡 怎麼 時期 演過',\n",
              " '台大 蘇有朋 電機 梁詠琪 范范 羅大佑 醫科 小田和正 東大 建築 還有 幫忙 哈佛 理工 中文 香港 一下 那些',\n",
              " '因為 最後 爭議 立委 當時 本來 市長 台北市 後來 時候 顧面 名近 團體 區公所 一個 電話 不斷 住持 拜年 十三太保',\n",
              " '集團 外資 台灣 分紅 什麼 財訊 科技股 台塑 董事長 看過 股東 因為 兩家 電子 產業 護盤 現金流量 結果 推薦 怎麼',\n",
              " '立委 立法院 一屆 他們 這位 ........... 漁色 ... ....... 不可思議 三劍客 聽說 一個 ........ 時候 造勢 隔天 之前 高雄 女生',\n",
              " '演唱會 聽說 音樂 分格 左右兩 還在 上當 當面 動作 同團 KEYB 八掛 ptt manson 對於 藝術 設計 極大 天份 還當',\n",
              " 'Manson Marilyn 來自 he 女星 妻子 應該 Monroe 傳奇 女演員 瑪麗蓮夢 則是 Charles 為首 殺人 集團 gang 後者 事蹟 1969',\n",
              " '破產 錢櫃 別人 財產 一個 名下 本票 吃香喝辣 有錢人 借錢 不會 翻臉不認人 轉移 幾十億 幾百億 小錢 花天酒地 執行 繼續 坐擁',\n",
              " '興趣 Michael Moore 紀錄片 Bowling Columbine 看看 可以',\n",
              " '男主角 一個 公室 女兒 朋友 立委 有沒有 CHOCOLATE 後來 聽到 確定 這個 現在 ...... 之類 資深 人員 年次 ......... 這樣',\n",
              " '小姐 一個 媽媽 因為 酒店 我來 這是 桑說 鄭進 喜歡 小費 一點點 比較 變態 特別 服務 加價 這種 抽籤 輪流',\n",
              " '張嫚 小堂弟 時候 母親 其實 那個 後來 父親 媽媽 年輕 關於 乾脆 常常 一個 過繼 覺得 還是 因為 時期 這件',\n",
              " '... 飛機 .. 已經 反抗 沒有 乘客 911 因為 世貿 決定 當時 恐怖份子 駕駛艙 的話 奪回 擊落 降落 報告書 出來',\n",
              " 'Kate Middleton 威廉 小報 他們 曾經 英國 報導 已經 卡蜜 訪問 生氣 媒體 學校 仔報 王子 是從 2003 聖誕節 開始',\n",
              " '創價 滿大 辦學 學園 還是 還有 大學 名校 甲子 有名 好像',\n",
              " '唱題 活動 我媽 這個 會長 大聲 其實 聚會 一樣 池田 信心 南無 蓮華經 強迫 什麼 覺得 妙法 自己 想像 媽媽',\n",
              " '制服 王童 總之 藝人 然後 星光 穿著 ... 因為 典禮 說謊 大道 根本 制服呢 校名 好幾年 金馬獎 還是 金鐘獎 頒獎典禮',\n",
              " '學校 沒有 ... 我們 傳出 學妹 其實 幾名 應該 老師 留言版 討論區 不過 班上 真的 大家 阿珍 演出 王瞳 剛拍',\n",
              " '... 因為 文章 Pekingc Peking medache 標題 新聞 誤導 視聽 牙醫師 起來 時間 Sat Jun 25 00 51 13 2005',\n",
              " '當時 車子 記得 同學 ... .. 那邊 一邊 倒車 駕駛 注意 聊天 大概 我會 上來 po 現場 不過 記憶力 我還',\n",
              " '四人幫 慧星 余秋雨 黑暗 這個 文膽 寫作 一員 劉少奇 王光美 什麼 批孔揚 後來 還把 槍口 對準 周恩來 興趣 Google 余杰',\n",
              " '王非 豬頭皮 竇維 首歌 願意 寫給 一來 歌詞 流行音樂 上課 講的 他們 兩個 起來 黃國 四處 演講 時候 強調 沒爽',\n",
              " 'TBC 成員 他們 還是 因為 經濟 一個 應該 創始 Crew 另立 米迦勒 ENERGY Boy 不過 聽說 當年 舞團 一陣子 MV',\n",
              " '同學 秋雨 老師 給你 咬文嚼字 先生 一個 驕傲 多麼 文史 後來 差錯 過去 你們 態度 時間 一本 比如 道家 文章',\n",
              " '應該 轉貼自 中時 電子報 八卦 算是',\n",
              " '院長 農會 超貸 拜託 愚家 那位 諷山 不過 叔叔 立法院 土地 應該 人有 聽過 這個 關於 一個 那時 回來 價值',\n",
              " '老師 一個 ... 那個 女生 教室 樣子 然後 一直 侯怡 對侯 後來 看起來 上課 發現 什麼 頭髮 現在 八個 印象',\n",
              " '清元 當年 喪田 王真治 .. 因為 .... 狂打 夜生活 巨人 日本 翻唱 多采多姿 暗通款曲 垂垂老矣 也許 真誠 這段 情仇 還跟',\n",
              " '朱永棠 朱永龍 張柏芝 傳說 然後 女朋友 當初 謝天華 陳小春 一點 介紹 合約 不過 不會 陳曉東 周星馳 一說 he 半推 渡假',\n",
              " '這個 新聞 怕怕 開始 嚇到 暫時 有種 感覺 三個 連結 附上 牌子 看到',\n",
              " '什麼 這樣 整支 工作人員 剛好 時下 一樣 會講 的話 出外景 很熱 旁邊 天氣 好熱 整個 那個 當場 團體 忌諱 美眉',\n",
              " '美國 這個 haagen dazs 口味 當初 創辦人 沒有 還有 丹麥 因為 空氣 產品 台灣 法國 冰淇淋 含量 公克 所以 品牌',\n",
              " '.... 後來 開始 很親 音樂 那個 不過 XD 經理 虔誠 專輯 應該 基督徒 不要 雖然 親戚 幾年 已經 沒什麼 聯絡',\n",
              " '清原 巨人 全壘打 紀錄 甲子 王貞治 巨人隊 選秀 指名 打者 報導 成績 打擊率 13 打點 絕對 當時 王貞 監督 母親',\n",
              " '... 看過 曾經 重訓 發現 少數 教練 阿伯 怎麼 其實 幾乎 開講 認識 現在 打過 至於 問題 言過其實 頂多 自言自語',\n",
              " '中谷 美紀 渡部 渡部篤朗 因為 繼續 我們 角色 據說 和絃 時候 曾經 法籍 老師 短暫 關係 三個 一帆風順 導演 提幸彥',\n",
              " '因為 最後 留下來 時候 超級 留言版 內幕 星期天 所以 走下坡 聽說 厲害 什麼 就連 票選 觀眾數 比較 沒有 那麼 節目',\n",
              " '渡部 中谷 村上 fans 照片 什麼 因為 覺得 他們 這種 還是 簡訊 發現 當然 還有 朋友 男人婆 深吻 只是 這對',\n",
              " '冰淇淋 ... 一個 高級 還有 產品 美國 經營 歹子 旗艦店 後來 敦南 其實 不會 一樣 台灣 市場 經營權 因為 成功',\n",
              " '中谷 同性愛 傳聞 公開 不會 這件 新聞 .... 至於 日本 反正 其實 演藝圈 裡算 平頸 一樣 圈內 討論 附註 常見',\n",
              " '王麗紅 造型師 男女皆可 UCLA 他們 認為 雙性戀 本來 異性戀 Party 接著 後面 從此以後 ... 改變 我世新 同學 常幫 藝人 Salon',\n",
              " '學長 ... 因為 演藝圈 忿忿不平 林佑威 輔大 織品 還沒 出道時 人見人愛 臨家 入學 風靡 全系 個性 陽光 人緣 老師 疼愛',\n",
              " '少奶奶 週刊 因為 保母 喜歡 辜家 當初 內容 這位 大少 還有 治療 拉扯 公公 老夫 星巴克 整篇文章 但是 衣服 依稀記得',\n",
              " '新聞 連結 還有 二個 資料 mms 210.58 99.181 video newvideo 843 v843016 wmv 另外',\n",
              " '爸爸 診所 還是 現在 他們 不著 打針 好像 棍子 珠珠 訪問 侯怡君 兩個 明顯 連他 媽媽 過來 搶走 然後 什麼',\n",
              " '我們 黑牌 然後 服務生 這個 plush 出來 同行 印象 難得 貢獻 推銷 jd 什麼 可憐 養家 學費 賣酒 balabala 上圍',\n",
              " '桑田 巨人 王貞治 高層 選秀 選擇 當時 這樣 清原 授權 準備 KK 搭檔 一個 不會 第二輪 的話 情況 此時 未來',\n",
              " '保版 因為 記憶 有錯 指證 高岡 布代有 的確 生氣 放過 布代 一點 保阪 學過 某種 格鬥 而學 不錯 關係 孤兒',\n",
              " '我們 因為 一個 他們 沒有 最後 什麼 覺得 但是 時候 過去 一天 壞蛋 開始 越來越 發現 我要 感謝 當我 耶穌',\n",
              " '孫越 演員 一個 什麼 電影 自己 他們 別人 角色 表演 許多 這個 覺得 機會 劇隊 發現 社會 演藝 演戲 隊長',\n",
              " '冰凍 ... .... 一個 準備 已經 不要 不好意思 西瓜汁 每次 消費 幾次 飲料店 700cc 那種 三個 也許 總之 負責 結帳',\n",
              " '台糖 暴有 利益輸送 蘭花 咖啡館 噱頭 一種 某種 貓的 從貓 便裡 產量 還要 貓吃 哪種 決定 聽說 還滿 愛的 咖啡豆',\n",
              " '摔角 壞人 看過 裡面 WWF profile 設定 什麼 樣子 這樣 老闆 陣營 造型 好人 故意 一部 紀錄片 美國 演員 進行',\n",
              " '長谷 藝人 當時 前任 超模 松原 千明 不過 溫婉 氣質 路線 媽媽 離婚 對象 川理惠 本來 Cancam 雜誌 藤原紀香 自那裡',\n",
              " '爺爺奶奶 爸爸 雖然 孝順 做菜 奶奶 她家 真的 在家 魔石 成醬 有點 不過 還是 接過 活動 很窮 一個月 兩萬 還要',\n",
              " '因為 應該 怎樣 這樣 沒有 台北人 算是 常跑 穿著 她講 現實生活 覺得 這麼 言論 銷酒界 一場 38 50 還有 的點',\n",
              " '系統 測試 結果 交易員 聽說 窮邦 剛換 幾天 忘記 資料 刪除 一個 這麼 烏龍 還蠻 當然 不會 問題 一講 客戶',\n",
              " '傳教士 教會 傳教 他們 因為 國家 申請書 時候 準備 擔心 區域 雖然 年長 走路 可以 全世界 地方 宗教 但是 道友',\n",
              " '強尼代普 婦人 最後 蘇飛亞 教父 很妙 第三集 薇諾娜 煞到 剪刀手 時候 超級 大導 那時 已經 開拍 臨時 合適 女兒 上陣',\n",
              " '聖水 驅魔 神父 中邪 演講 手冊 那麼 反應 後來 普通 一瓶 就是 所以 其實 這樣 聽過 負責 還領 本驅 實際上',\n",
              " '神父 他們 因為 等級 那個 什麼 那麼 應該 開始 這個 其實 中邪 你們 教區 台灣 驅魔 兩三個 老頭子 RPG 兩個',\n",
              " '... 台灣 演員 八卦 應該 ATV 電影 因為 現在 時候 有點像 節目 模仿 之子 田心 港姐 整篇 港劇 綜藝節目 的話',\n",
              " '索普 後來 覺得 還是 游泳 失足落水 新聞 規則 規定 失格 當場 他們 奧委會 委員 還有 現場 觀眾 如果說 沒輸 當時',\n",
              " '錫克教 認為 這個 佛教 一般來講 不過 曾經 有過 連青 師父 承認 新聞 佛教界 自稱 觀音 法門 跟本 教義 這裡 有個',\n",
              " '學歷 一張 實力 比較 台灣 .. 新聞 哥倫比亞大學 野雞 臉上 主播台 豪門 有錢人 主播 能服 沒有 有點像 cnn 歐巴桑 感覺',\n",
              " '加油機 油槍 第二種 時候 兩支 一點 不會 一元 XD 出來 記者 絕子絕孫 現在 油表 開始 還是 被車撞 加油站 就是 但是',\n",
              " '簽名 版主 動靜 他們 現場 因為 天堂 專輯 簽唱會 人數 覺得 我們 一個 樂團 還是 音樂 真的 主唱 橘子 非常',\n",
              " '胡刮 古惑仔 感覺 記者 內容 紹美奇 Sandie 朱衛因 李宗勝 當然 離婚 .. 應該 曾經 失敗 蕭卅 張意 葉倩 林太太 現在',\n",
              " '香精 其實 天然 所謂 提煉 產品 薯條 蘋果 什麼 這麼 速食店 麥當當 舉例來說 化學成分 一樣 有機溶劑 沒有 消費者 有沒有 成分',\n",
              " '抄襲 漫畫 幾乎 男主角 女主角 不過 學生會 一模一樣 興趣 黑道 講個 無關 有關 還蠻 喜歡 看簡 後來 裡長 頭髮 那個',\n",
              " '阿諒 總行 阿松 國家 聖德 花旗 辜家 老辜 經營 辜振甫 中信 子弟兵 外交 拉下去 控管 要講 小辜 講些 幾年 學習',\n",
              " '黃平 阿牛 同學 那個 遇到 來個 題外話 某個 龍捲風 常講 哩里 瞭解 然後 後面 雖然 這是 結果 感覺 朋友 夜市',\n",
              " '相關 推文 推文先 刪除 IP 沒人會 認為 神職人員 po 什麼 這樣 至於 兩篇 Tuberosa 所說 因為 常識 語言 精準度 差太多',\n",
              " '應該 那麼 小時 看電視 時候 覺得 怎麼 好好笑 後來 電視 長輩 說話 表現 其實 鏡頭 take 這樣 上鏡 機會 比較',\n",
              " '檢察官 補習班 法律 這位 聽說 嚴重 沒空 台灣 認真 他們 至於 不過 報紙 檢署 交給 ....... 不會 法官 砍除 案件',\n",
              " '歡歡 派對 小虎隊 後來 當時 悠悠 悠歡 因為 覺得 一團 問題 現在 記得 少女 乾脆 少男 出道時 強力 能帶 紅的',\n",
              " '甘迺迪 男顏 薄命 張國榮 約翰 小約翰 狄恩 人外 請問 還有 曉得 王尚義 帥不帥 徐志摩 算不算 詹姆斯 名人 除了 不知 那些',\n",
              " '藝人 紙條 回答 比例 幾年 抬視 超級 大副翁 很紅 請到 有次 民聲 報導 錯題 笑話 月餅 由來 關聯 起義 當時',\n",
              " 'SOHO 建華 廣告 金控 逃大尾 一個 請款 先拍 這是 週刊 大綱 step1 逃大葦 高層 由於 桃大尾 欣賞 這個 製作 Step2',\n",
              " '然後 開始 怎樣 後來 還有 三立 女主角 結果 時候 戲份 之後 攝影師 還蠻 女兒 好像 小孩 角色 一直 老婆 丈夫',\n",
              " '接心 覺得 沒有 一個 這些 當時 兩個 兒子 開始 因為 他們 一些 這個 發生 其實 這樣 參加 比較 佛祖 日文',\n",
              " '星巴克 咖啡 消費者 貿易 有機 田上 所謂 生產 公平 組織 必須 生產者 絕大多數 進行 幫助 購買 美金 公司 牛奶 真正',\n",
              " '老師 然後 時候 因為 學生 問題 旁邊 當場 高中 學校 文學 回來 講課 南海路 主辦 剛好 導師 國文科 教學 研究會',\n",
              " '楊先生 歷史 哈佛 楊召 候選人 指導教授 報告 老闆 於是 發生 這位 親密 戰友 進修 博士 嘿嘿嘿 小姐 八卦 教授 事件',\n",
              " '檢察官 這位 後來 地區 桃園 表弟 有位 辦案 於是 不過 下場 上酒家 周仁 六合彩 說好 剛正不阿 那種 辦到 司法人員 到極點',\n",
              " '大童 這個 郭文厭 慈禧太后 擔任 員工 林廷 林鎮元 林尉 調職 二房 之前 高層 內幕 .. 由林尉 總經理 稱作 就讓 實虧',\n",
              " '檢察官 老師 羈押 電視 時候 一個 媒體 我們 喜歡 證據 沒有 那個 低調 辦案 還有 之前 就是 私娼 這麼 繼續',\n",
              " '大哥 包養 捉姦 給周 兩個 選擇 從五樓 沒有 爆發 因為 周跑 醫院 對外 聲稱 吃錯藥 最後 周娶 一個 過的 安安',\n",
              " '大哥 蝦仁 女人 忘記 哪邊 看來 娶魚 後續 因為 周玩 反過來 那時 選擇 跟魚 閃電結婚 還是 自願 滿足 之後 這件',\n",
              " '阿釁 ... 朋友 八卦 強者 同學 有次 家裡 一時 無聊 房間 裡去 書桌上 合照 覺得 前男友 幾眼 問了 沒錯 不過',\n",
              " '.. 時候 教官 還是 學生 一忠 八卦 這邊 後來 有沒有 違反 因為 這是 幾年 廁所 封閉 有個 進去 結果 ...',\n",
              " '尾崎 肺水腫 繁美 發現 將他 醫院 身體 此時 照片 民宅 死因 宿醉 夫人 豐的 一個 現在 還在 調查 父親 雖然',\n",
              " '老師 黃先生 因為 這樣 覺得 起來 報導 開庭 當天 東西 以後 一個 證物 怎麼 判決書 沒有 謝謝 分局 案子 被淹',\n",
              " '老師 家長 那個 學生 其實 沒有 100 當然 什麼 但是 一個 最後 十幾下 學校 幾下 一年級 體罰 媒體 所以 小朋友',\n",
              " '現在 朋友 奇怪 情侶 一個 小貓 當初 還留 電話 什麼 穩定 還有 家裡 一隻 差點 來看 貓了 結果 後來 因為',\n",
              " '男友 拉娃 娛樂版 娛樂 記者 幾乎 專業 戀情 大陸 簡直 同樣 外調 主播 版面 八卦 每次 親口 證實 古性常 出現',\n",
              " '測驗 臨床 智力測驗 結果 FIQ 心理 VIQ PIQ 100 ... IQ 沒有 資格 施測 也就是說 分數 還有 解釋 一個 標準差',\n",
              " '免洗 之後 ... .. .... 黑心 漂白 筷子 看到 我們 小攤販 其實 ...... 新聞 報導 大陸 ..... 漂白劑 板橋 漂完',\n",
              " '小說 因為 這是 中共 主角 內部 情況 沒有 這才 鹿鼎記 最難 不斷 說謊 影射 恐怖 英雄 日月神教 後來 麻煩 政治立場',\n",
              " '電影 房子 窗戶 那個 不過 一個 那棟 高級 住宅區 後來 賣座 鬧鬼 還是 形狀 社區 屋主 恐怖 全美 夫妻 前屋',\n",
              " '大學 後來 什麼 陪考 小黑 開始 考試 112 答應 出來 泡溫泉 我們 妹妹 過了 兩個 於是 下來 那時 115 感覺',\n",
              " '潘美岑 同學 我們 覺得 時候 一個 因為 她們 之後 態度 拍照 同行 昨晚 天母 一帶 亂晃亂 驚覺 不男不女 擦肩而過 實在',\n",
              " 'Disney 台灣 並未 他們 大陸 美國 考慮 HK 三個 需要 只有 天津 大概 沒有 這是 誤傳 1998 2001 時人 身邊',\n",
              " '07 02 boyofwind 血緣關係 222.250 144.84 兩個 徐志摩 表哥 nicholas0712 218.162 171.117 hikerLin 59.115 145.44 .. 的確 海寧 miuu 同鄉',\n",
              " '英雄傳 叫做 射雕 報紙 連載 本來 毛澤咚 一闋 沁園春 有關 有云 天驕 只識 彎弓 射大 1960 認為 金書 內容 後來',\n",
              " '中田 .. ..... 英瘦 裝熟 出來 時候 白零 旁邊 感覺 林志 雖然 柏林 明星 真的 大姐 卡位 照完 大概 剛剛',\n",
              " '近照 26 Courtney 帶著 Frances 參加 American Idol 頒獎典禮 今年 其他',\n",
              " '髮型 特徵 安人 傳統 他們 公雞 龐克 雄性 改良 留過 這個 稱為 雞冠 一樣 這頭 過來 我們 這是 經典 其實',\n",
              " '可愛 小余兒 吳闕 裡面 覺得 生氣 仙女 八卦 女生 看到',\n",
              " '大陸 據說 一個 密談 南懷僅 修行 李登輝 台灣 鐵路 有個 道場 不過 弟子 密使 千度 淪陷 崑崙山 閉關 密修 苦讀',\n",
              " '警告 版豬 不過 還是 好像 巴拉巴 其實 出來 時候 本來 是給 違反 版規 人發 標題 聽來 兩個 然後 板上 討論',\n",
              " '美國 華納公司 這樣 事實上 華納 遊樂園 一個 迪士尼 的確 計畫案 申請 當時 評估 億是 官商勾結 連外 月眉 那塊 就讓 給了',\n",
              " '學妹 功課 哪裡 名列前矛 休學 滿帥 180 低調 跟系 成謎 相簿 那系 連結 .... 有交過 一個 交滿久 很正 戲劇 XD',\n",
              " 'Mark 節目 Jeffrey Burnett Hans 福斯 美國 電視 新人王 這個 鐵拳 拳擊 配樂 Zimmer 他們 Oscar 沒有 案子 本來 已經',\n",
              " '記者 新聞 因為 地方 一個 區域 採訪 發聲 有時候 屏東 支援 同學 老媽 派駐 某一縣 攝影 整個 這個 蠻大 發生',\n",
              " '一個 台灣 應該 這樣 旁邊 旭東 ... 助理 大概 穿著 中田 媽媽 遠企 進門 看見 特別 顯眼 夾腳 帶著 墨鏡',\n",
              " '沈海榮 嫁給 曾經 論及 拍戲 吊鋼絲 還是 動作 跌下來 傷的 醫院 慰問 即將 去問 醫師 還能生 這件 沒多久 他們 就切',\n",
              " '六盒 集團 福特 企業 不錯 經營 員工 生意 家族 低調 換鈔 活動 創辦 比較 罕見 宗家 是從 山東 大陸 時期',\n",
              " '自殺 樂蒂 關於 用藥 沒有 死亡 網站 介紹 菁華 收錄 並非 討論 記得 內容 寫到 樂蒂因 身體 過度 當時 遺書',\n",
              " '節目 棒球 泰山 一百分 黑黑 一個 訪問 還是 製造 問張 百轟 籃球 一場 什麼 打籃球 帥帥 醜醜 結果 這種 花痴',\n",
              " '因為 遊學 rain 喜歡 喬妹 聽說 .. 韓國 國外 生活照 小女生 高個子 滿屋 個子 一點 沒關係 拍攝 期間 剛跟 李炳憲',\n",
              " '台灣 先生 唱片 ... mtv 經紀 因為 兩人 演唱會 韓國 公司 當初 時候 颱風 專輯 表演 非常 新聞 最後 沒有',\n",
              " '雜誌 中田 李冠意 東西 WestEast 創辦人 一個 連結 有助於 瞭解 草創 過程 因為 這本 來頭 時尚 歐美 英獸 不錯 追蹤',\n",
              " '舞碼 韓國 過了 ... 新歌 發表 10 那段 先前 表演 月份 而且',\n",
              " '... SMAq 藝人 幾乎 離開 團體 說法 當時 結婚 尼斯 比較 不會 摩托賽 照顧 節目 團員 解散 中居 公司 猴子',\n",
              " 'rhooxx 看來 已經 相當 補充 一點 剛剛 網站 完整 消息',\n",
              " '拜爾 民進 當時 其實 投資 海浪 廖勇來 羊港 不過 中縣 因為 全黨 雖然 發言 省議會 預算 台中港 主席 象徵性 分好',\n",
              " '柏原 浩子 原蟲 2004 暫停 之間 結婚 好友 和解 六月 吉他手 三星期 眼眉 所組 樂團 名稱 Nowhere 其實 收屎 幾個',\n",
              " '雨聲 大姊頭 救回來 不惜 方法 痛苦 當時 醫界 流傳 一種 講法 醫院 外科醫生 整死 聽到 出車禍 跟馬接 高層 會面 金錢',\n",
              " '藝員 訓練班 考了 終於 周星馳 港劇 龍套 李婉華 反派 射雕 吳志強 1982 TVB 11 結業 不愛 唸書 學校 畢業 之後',\n",
              " '立委 議員 ... 小姐 父親 數不清 簽單 200000 那邊 顏大 跳舞 之前 印象 天天 俗子 常跑 去過 幾次 作東 在場',\n",
              " '當時 我們 愛力 小姐 高中同學 同學 女友 已經 畢業 這群 這位 雖然 有點 偶有 本名 高中 高雄人 一群 酷酷 很甜',\n",
              " '聯盟 選秀 因為 沒有 3A 夢想 投手 印地安人 立教 已經 大學 本來 橫濱 後來 現在 並且 球團 的話 實現 升上去',\n",
              " '.... ..... 簽長 根據 強者 有要 轉型 成為 藝能 改組 電影 台成 育樂 積極 新血 以後 應該 還會 sport girl',\n",
              " '比賽 先發 風波 2002 亞運 代表隊 對抗賽 數人 勝負 無關 台灣 梁如豪 張誌家 這場 中繼 當年 選秀 男男片 的話 不會',\n",
              " '起來 時候 聽說 大怒 新聞 兩個 遊客 頭髮 八卦 同事 卡到 吃飯 一則 六福春 獸性大發 殺死 然後 開始 討論 幾則',\n",
              " '威逃 親戚 因為 .... 有點 怎樣 我爸 魔王 八卦 所以 難得 有關 長大 當初 結婚 預言 不過 懷孕 個會 還打',\n",
              " '戴良純 劉永 醫生 暴力 黎燕珊 台灣 發展 美麗 標準 兩人 結婚 日本 婚姻 回台 演藝圈 劉永愛 00 一樣 轟動 出來',\n",
              " 'ARMANI ... 短褲 顏色 代理商 擂打 這是 一個 接觸 時尚 老師 歌服 西裝 訂做 沒錯 據說 當時 覺得 有損 購買量',\n",
              " '當時 同學 郭世輪 後來 夜店 還有 BEN 沒有 當晚 結束 我同 學說 不錯 最後 覺得 電視 哥哥 分手 周杰 一套',\n",
              " '我媽 的確 ... 時候 小時候 乞丐 賴東進 內容 他們 乞討 堅強 牆壁 爸爸 舅舅 一篇 每次 但是 難得 機會 這個',\n",
              " '黛薇 酒井 蘇卡諾 政利 夫人 總統 第四任 2000 製作 公開批評 銀座 酒廊 演藝圈 寄生蟲 則反 出櫃 沒種 性戀 兩人 你來我往',\n",
              " '... .... 時候 出來 那個 同學 憨憨的 雷還 很紅 綜藝節目 過去 來報 看起來 其實 是裝 已經 小聰明 人緣 他同 學說',\n",
              " '畫面 還有 時鐘 倒數 當然 的話 沒有 分鐘 然後 起來 旅遊 現場 發現 這些 時候 計時 時間 滴答 穿插 真的',\n",
              " '時候 張蒂 我爸 叔父 張家 節目 尾聲 張蒂以 前來 我們 家過 當我 爸還 小學 一年級 108 醫院 醫官 應該 張蒂說',\n",
              " '.. 監察 新聞 王靜盈 輪胎 跟本 威逃 職位 詮曄 投資 南港 老公 董事 有限公司 代表 股份 一直 只是 不是',\n",
              " '還有 戲份 潘儀 個性 ... 價碼 因為 覺得 記得 一個 王識閒 不過 女星 演技 吃光 道具 五六位 五餐 高瘦 科班出身',\n",
              " '13 sunniegirl Anti ramp 標題 Re 東森 購物 時間 Wed Oct 42 49 2004 洋娃娃 糟糕 作者',\n",
              " '新人 十個 一個 豐華 怎樣 頻道 小燕 唱片 家族 這行 有談 有簽 還要 至於 企宣 強勢 擺佈 意見 然後 條件',\n",
              " '富商 做生意 那個 什麼 王靜瑩 當時 緬甸 還是 哪裡 僑生 大學 台灣 唸書 曾經 演藝圈 發展 出過 一張 沒紅 後來',\n",
              " '達賴喇嘛 小朋友 一個 拉薩 時候 喇嘛 東北 還有 那個 轉經輪 念珠 轉世 再來 認定 轉向 高興 因為 布達拉宮 過來 這是',\n",
              " '威陶 王靜瑩 婚後 飯店 婚前 爆料 引發 兩人 愛玩 神旺 總統套房 KTV 包廂 狗仔隊 錯開 分別 進入 負債 金錢 劃清界線',\n",
              " '他們 抄襲 一個 時候 威逃 引用 朋友 非常 記者 要負 法律責任 畫面 內容 PS 以後 因為 瑩會 結婚 樣子 覺得',\n",
              " '同學 郭世輪 我國 紐西蘭 表妹 的親 因為 中時 他們 小時候 見過面 回台灣 我們 18 房玩 剛好 於是 簽名 還是 合照',\n",
              " '一個 天王 不過 他們 姓孫 四大 推文講 孫得容 還在 那個 時代 因為 有點 紅吧 師弟 之類 團體 原界 後來 出片',\n",
              " '王靜營 威逃 我媽 強者 兩個 八卦 沒想到 還是 裡面 兩人 因為 賭博 朋友 值得 ........... 可憐 新聞 什麼 財產 分開',\n",
              " '內容 連結 這則 TVBS 晚間新聞 ... 電視 沒有 內文 標題 網站 獨家 .. 新聞 這裡 上面 直接',\n",
              " '達賴喇嘛 轉世 西藏 之後 達賴 因為 一個 時候 偉大 這也 什麼 談論 勢力 測封 過世 問題 沒有 靈童 決定 蒙古',\n",
              " '紅海 .... ... ..... 付錢 倉庫 講到 老闆 我們 一個 列為 拒絕往來 帳款 結果 領料 生產 其實 還會 供應商 同事',\n",
              " '關口 電視劇 當時 影星 佐野 爸爸 正三郎 1912 1978 影史 歷經 戰前戰後 隸屬於 松竹映畫 兩個 很紅 原謙及 分利信 合稱 三羽',\n",
              " '紀念堂 軍方 原來 這塊 世貿中心 po 什麼 那塊 訓練 原本 誤會 應該 要蓋 這筆 預算 聯想 慈吸 海軍 圓明園 給你去',\n",
              " '用電 據說 專戶 工業 民生 記者 抄襲 要關 核電廠 費用 將來 不過 台電 賺錢 民營化 自重 八卦 核能 情形 一個',\n",
              " '莫札特 一個 音樂家 不過 音樂 已經 安魂曲 耶里 撒手人寰 兩個 辦法 青出於藍 薩里 競爭對手 還當過 老師 貝多芬 抄襲 委託 時候',\n",
              " '老爸 滔天大罪 親友團 報到 雖然 上報 不過 廣大 Gossiping 眾的 再來 輩分 比陳威 阿江 說法 .... 當然 古板 家事 老是',\n",
              " '香港廉政公署 這是 網站 特別 推薦 反貪 實錄 很棒 部份',\n",
              " '後來 我爸 議員 時候 一點 之後 黑道 以前 生還者 樣子 我要 應該 大約 10 幾年 中壢 經營 電影院 年輕 開過',\n",
              " '還有 州長 沒有 什麼 那個 權力 喬治 布希 一個 總統 兩個 女兒 曾經 飲酒 然後 第弟 當過 佛州 說錯 笑話',\n",
              " '... 什麼 布希 總統 CNN over 放假 耶魯 這種 因為 組織 成員 這個 超過 那個 問題 存錢 再講 實話 最後',\n",
              " '新聞 現在 總編 記者 什麼 頭條 決定 媒體 時候 性工作者 各版 財經 已經 離開 行業 PTT hate 時報 還是 起來',\n",
              " '.. ... 覺得 因為 節目 錄影 其實 這樣 感覺 活動 喜歡 傻大姐 現在 算一算 個性 大家 直率 男生 真的 女生',\n",
              " '記者 新聞 XD 電視 數字 他們 現場 跳槽 機會 因為 還要 媽媽 主播 畫面 幫忙 八卦 警察 自家 反其道 警政',\n",
              " '天母 時代 因為 地區 後來 美國 三角 虎爛 出現 廣場 總督府 官員 逐漸 公車 加上 日本 地名 多角化 宗教 芝山',\n",
              " '記者 sn750823 接觸 認識 張錫銘 知道 出來 可以 認為 這個 東西 怎麼 請問 辦法 聯絡 這種 問題 因為 絕對 不會',\n",
              " '逃子 一個 大學 時候 那個 男生 女生 本來 這樣 節目 不會 人裝 氣質 現在 強勢 後來 條件 剃光頭 原諒 結果',\n",
              " '來賓 節目 2100 立委 高層 國民黨 支持者 工讀生 一陣子 時候 總統大選 打電話 廣告 時間 藍綠 活動 觀眾 參加 常常 不用',\n",
              " '問題 整本 覺得 危險 心靈 省思 中間 這些 完才 發現 小說 解決之道 台灣 體系 教育 收尾 直指 乖乖 弊端 小孩',\n",
              " '哲學系 老師 台大 當時 報告 下學期 密告 零分 事件 哲學 一個 發生 12 教職員 起來 理則學 邏輯 結果 微積分 組織',\n",
              " '李維 經紀人 導致 柯姆茲 醫院 褥瘡 影星 斯特 病逝 一九九五年 克里斯多 紀元 10 11 日訊 華盛頓 日電 美國 因為 心臟',\n",
              " '剛才 網頁 lilyC 玲俐 本名 一下',\n",
              " '自殺 不過 後來 台大 吳淡儒 發現 出來 尼泊爾 吳才 覺得 年輕 節目 一個 前女友 弟弟 北一女 畢業 興趣 時候 律師',\n",
              " '氣質 數學 耐看 男生 考古題 以前 吳蛋 張小艷 節目 北一女 模擬考 還考過 從小 很會 讀書 不過 聯考 沒想到 背一背 還考',\n",
              " '數學 弟弟 那個 聯考 後來 吳淡如 結果 姊姊 阿亮 他姐 出來 他們 因為 好像 照片 星期天 那集 想要 保存 那科',\n",
              " '我們 數學 這個 因為 那個 一樣 寫字 手寫 聯考 電機 意義 沒想到 po 自殺 同班同學 一年級 34 二年級 33 三年級',\n",
              " '價錢 ... 大約 手槍 過程 比較 當然 條件 風險 其實 女生 孕母 一生 捐精 做愛 簡單 給你 房間 打給 記得',\n",
              " '中山美穗 吉岡 福山 閃電結婚 演藝圈 內田 此時 求婚 唱片 交往 狠下 相夫教子 爸媽 離婚 寄養 親戚家 親戚 冷言冷語 養成 獨立',\n",
              " '現在 家裡 表演 因為 dancer 他們 個人 電視 出國 雖然 出道 小時候 很窮 別人 時常 後遺症 順暢 開刀 美國 一個月',\n",
              " '時候 軍事 雜誌 因為 曾經 報導 還在 過世 本來 後來 難二鐘 還是 父親 回來 當時 黨外 打架 但是 大概 廿年',\n",
              " '.. 因為 本書 24 一本 前面 大概 XD 問的 雜誌 剛好 介紹 不過 PO 講過 補充 1.21 開始 出書 淡如',\n",
              " '... 張善 .... 經紀人 娘府 .. 真的 主持 因為 節目 客氣 親切 記性 那時 他邊 高笑 生邊 娛樂 兒童節目 我問',\n",
              " '讀卡 廠商 問題 金額 內碼 這個 規格 這種 硬體 檢查 正確 百分之百 成功率 這樣 現在 飛利浦 模擬 那個 韌體 幾乎',\n",
              " '王灩 .. 三個 李香 不錯 兩個 時候 水玲 女主角 拍照 鞋子 逆水 沒什麼 負面 車仁 四大名捕 京師 人常 聯合 起來',\n",
              " '出題 我們 老師 進去 題目 因為 裡面 PS 一個 入闈 一場 編輯組 幾個 的話 覺得 12 單獨 行動 代價 時候',\n",
              " '節目 .... 這個 金榜 英文 製作 沒有 東西 現在 因為 老闆 ..... 乃新 關係 寇乃新 殷非 一聲 問題 學生 外文',\n",
              " '兩人 辦公室 大柱子 簡真 據說 報社 時候 某個 然後 還會 躲貓貓 發出 銀玲 笑聲 最後 還是 這是 當過 記者 國文',\n",
              " '美國 聽說 沒有 不過 情緒 不穩 常吞藥 ... 然後 陣子 已經 恢復 單身 .. 精神病院 瓦斯 公子 太太 真的',\n",
              " '聽到 一個 平面媒體 財務危機 消息 最新 昨天 普遍 大家 知道',\n",
              " '... .... 機會成本 漂白 貝類 鹽酸 老師 計算 秘密武器 就是 洗不掉 奶奶家 幾天 新聞 我要 告訴 確有其事 海產 中盤商 說法',\n",
              " '... 演員 朋友 雜誌 訓練班 那個 進入 無線 星爺 名牌 所以 早期 報導 電視 週刊 古早 周星爺 報考 結果 沒上',\n",
              " '.. 雙氧水 鹽酸 五秒 基本上 亂講 來說 覺得 還好 畢竟 進去 出來 秒鐘 髒污 然後 乾淨 張開 這些 精華 講的',\n",
              " '電梯 我們 大廳 聯考 內闈 最外 五樓 不過 這個 什麼 甄試 學校 工讀生 中闈 外闈 當然 一樓 高中 警察 其實',\n",
              " '報告 臭氧 宣傳 機器 檢驗 裡面 以後 減少 有機物 曝氣 功勞 廠商 我們 其實 農藥 水裡 幾乎 也就是說 達來 空氣',\n",
              " '貝類 外殼 CaCO3 鹽酸 馬上會 反應 髒東西 的話 吐出來 所以 清水 遇到 表面 碳酸鈣 CaO 氧化鈣 CO2 馬上 腐蝕 一層',\n",
              " '學姊 同學 我們 她們 因為 那時 發片 畢業 阿爆 聽過 ... 專輯 他們 一屆 Brandy 學校 比賽 還是 看過 學說',\n",
              " '丁丁 因為 比較 天線寶寶 迪西 一個 喜歡 還有 當時 應徵 小時 英國 他們 人偶 小波 製作 顏色 gay 每個 聲音',\n",
              " '密碼 達文西 四個 天線寶寶 頭頂 ... 牛筋 看過 符號 課時 報告 當初 發現 鑽研 宗教學 分別 不太會 google 圖片 象徵',\n",
              " 'KFX 世紀 那時 有點 後來 經營權 那陣子 沒有 擴點 烤雞 時候 位於 漢口 職員 炸雞 多謝 南京 台大 收回 沒想到',\n",
              " '開心 梅艷芳 美威 因為 電影 之後 張學 然後 系列 主演 團員 annie 勿語 92 認識 螢光幕 聽說 結婚 離婚 唱片',\n",
              " '工程 當然 官員 磁磚 營造 時候 應酬 一個 什麼 ... 包商 政府 可以 因為 怎麼 圓仔湯 校長 關係 營造業 花費',\n",
              " '羅明珠 左撇子 那個 年紀 還沒見過 當時 戲裡 覺得 後來 還有 展現 主的戲 這裡 不會 演技 抱歉 小小 一些 神奇 左手',\n",
              " '伍佰 歌手 記者 轉載 MTV 聲明 退散 歡迎 來信 剛剛 廣播 national public radio news 討論 一個 階段 美國會 音樂',\n",
              " '漢壽 一個 花蓮 山區 失蹤 分隔線 之後 帶子 發現 夫婦 小女孩 女子 紅衣 發生 那邊 沒有 當時 靈異 屍體 張瑞河',\n",
              " '... 他們 自己 家人 這是 當年 桃園 縣政府 那裡 聽來 因為 覺得 比較 靈異傳奇 劉邦 過世 一兩年 亡靈 還有 當然',\n",
              " '1944 12 威廉 約瑟夫 20 艾森豪 國際 認可 中國 蔣介石 美國 陸軍 約翰 潘興 1919 喬治 馬歇爾 16 麥克阿瑟 18',\n",
              " '這些 ... 應該 看過 菅野美穗 VS 岡田 義德 演員 算不算 八卦 照片 很多 知道',\n",
              " '旭東 遠東 集團 不過 亞東 八卦 徐旭實 記者 尾牙 主持人 老闆 其實 兒子 長子 億元 然後 美國 那時 資產 小氣',\n",
              " '阿丁 長榮 榮運 張董 股票 放空 復華 當然 股價 作手 味全 回補 運輸 集團 過半 於是 記者 變成 一個 已經',\n",
              " '時候 後來 開始 小說 當年 倪匡 現在 認識 台灣 狀態 已經 六十歲 十五歲 產量 很紅 香港地區 暢銷 還說 透過 舒紅',\n",
              " '問張 記者 成為 億萬富翁 張董 同時 散戶 損失 億元 財富 這款 84 一個 財經 弊案 連帶 後續 影響 持續 14',\n",
              " '無意 變成 認真 魔人 討論 覺得 這個 推論 牽強 錯誤 沒有 evidence 情況 貿然 語氣 上會 誤導 若干 本身 肯定',\n",
              " '救護車 醫院 民間 消防隊 轉送 轉院 病患 患者 賺錢 治療 不治送 殯儀館 近距離 一樣 計價 遠距離 叫價 119 叫來 應該',\n",
              " 'alcohol dehydrogenase 甲醇 乙醇 代謝 因為 假酒 乙醛 經過 蟻酸 進而 嚴重 severe acidosis 視網膜 傷害 retinal damage 則在經 噁心',\n",
              " '一個 時候 朋友 桌球 體育 這個 劉秀平 剛好 世撞賽 同學 蔣澎隆 曾經 跟劉 發生 關係 玩一玩 繼續 連絡 明來 實現',\n",
              " '版主 茶版 評鑑 執照 茶葉 認知 篇文章 出入 有所 目前',\n",
              " '料理 調味 第二次 壓合 時候 ... 人工 覺得 現在 比較 不準 再來 過程 還有 挑選 因為 邊緣 整個 打工 清理',\n",
              " '小孩 Ans 媽媽 名人 所以 反而 因為 認識 麻吉 長輩 可說 單個 大喇喇 說話 奇蹟 下來 資深 關於 選上 以後',\n",
              " '五星上將 統帥 不過 國家 打贏 八卦 可以 終於 一個 ... 學期 軍訓課 授與 為準 相戰 三個 然後 兩個 那麼 作戰',\n",
              " '... 老師 ...... 後來 哈哈哈哈 學校 剛新 車子 打電話 給他 要錢 因為 顧忌 新車 還是 給錢 對方 約定 有把車 還給',\n",
              " '有秀舞 小姐 客人 ... 酒店 其實 沒秀舞 內容 她們 可回 不過 喜歡 出場 單純 因為 這些 陪客 可以 聊天 唱歌',\n",
              " '女兒 怎樣 已經 離婚 同學 江是 有次 聽到 電話 .. 內容 翹家 破口大罵 好友 他家 不然 太太 父母 回家 就要',\n",
              " '他們 醇君 該團 連續劇 走紅 小室 時期 卻是 開始 當時 香奈兒 記得 擔任 歌詞 這個 團體 評審 招牌 表演 山口智子',\n",
              " '利精 ..... 時候 堂姐 聽到 ........ 每個 大概 衣服 這樣 利精還 沒紅 沒什麼 兩年 咚森 購物 服裝 ...... 從早 在講',\n",
              " '... 他們 王力宏 廁所 歌王 那張 專輯 因為 親戚 製作 MTV 動畫 SO 剛好 小時 肯出來 名聲 傳開 大便 一去',\n",
              " '士元 日盛 寶島 銀行 業績 風光 證券 台灣 14 陳家 國泰 萬春 時期 時代 不過 幾年 一個 運氣 老臣 碰上',\n",
              " '然後 疑似 親眼看到 三四個 信義 lounge 一個 沙發 搖頭晃腦 出現 動作 音樂 持續 晃來晃去 這麼 明目張膽 人氣 還幹麻 記者 機車',\n",
              " '同學 孫耀委 鄭家 之類 不過 應該 一陣子 拉著 還是 拍戲 然後 難看 的話 覺得 不錯 很累 分手 抱怨 吐苦水 威仔',\n",
              " '出演 事務所 保護 通報 欠席 仙台 所属 大声 警署 放送 状態 心配 催中 決勝 仕事 日未明 宮城 午後 現在 撮影',\n",
              " '電視 選手 大胃 節目 比賽 朝日 元祖 性質 胃王 競賽 大食 其實 冠軍 製作 單位 CREAT 負責 導演 一樣 然後',\n",
              " '畢業 model 挺挺 隔壁 白天 蘭雅國 高島 學校 68 年次 ..... 紀念冊 還放 一張 藝術 沙龍 看起來 老氣 XD 北士商',\n",
              " 'Orz 電磁脈衝 當量 攻擊 平流層 瞬間 效應 千噸級 核彈 震波 核爆 導彈 產生 癱瘓 關鍵技術 落塵 電磁 炸得過 大氣層 衝擊波',\n",
              " '氫彈 Orz 產生 進行 威力 原料 核武 這種 美國 沒有 製造 當量 發展 核子武器 爆炸 原子彈 熱核 作為 聚變反應 飛彈',\n",
              " '藝人 因為 經紀 宣傳照 很多 抽成 我的親 一個 你們 認識 那個 其實 沒多大 意義 背後 靈了 什麼 相當 他剛 走紅',\n",
              " '... 標題 請問 發明 發源地 .... 或是 一下 以上',\n",
              " '先生 ...... 那個 時候 一點 陽光 小姐 台北 弟兄 生氣 ....... 怎樣 不機 那位 成功嶺 35 大頭 兵時 剛好 連上',\n",
              " '王文划 那個 他們 女生 分手 艾莉私 因為 還有 暗戀 最後 坐過 男生 告白 三十幾歲 華爾街 回來 台灣 第一個 ... VJ',\n",
              " '價格 有時 契約 對內 現貨 員工 島內 外銷 產品 雖然 達到 經營 其實 國際 穩定 國家 里民 塑化 各位 便宜',\n",
              " '李蒨 常看到 東區 立特 ADDIDAS 後面 兩個 剪頭髮 德榮 我媽 貴婦人 藝人 還有 師長 張學 XD 敦化 忠孝 星期五 巷子',\n",
              " '雞肉 當時 應該 發明 這樣 其實 攤子 第一家 意外 支解 重要 這個 正確 感覺 做廣告 民國 由於 曉得 導致 價格',\n",
              " '我們 小黑 聊天 兒子 場景 黑哥 時候 兩個 總是 越來越 IP 搭訕 一個 網友 .... 曾經 小孩 明明 拼命 妹妹',\n",
              " '戰機 .... 還有 軍事 先進 測試 AREA 51 全圖 之一 只是 其他 方面 其中',\n",
              " '表姊 李蒨 喉配 ... 還有 學校 藝人 化妝 田力 電視 以前 折痕 衣服 聽到 岑是 所國 太妹 蹺課 吸煙 怪異',\n",
              " '一個 BBS 系統 目錄 使用者 東西 文章 介面 資料 其實 結構 裡面 OS 當然 內規 透過 站長 沒有 因為 email',\n",
              " '記者 周董 緋聞 聽說 報料 交換條件 要問 不過 引薦 喬傑立 因為 喜歡 喬捷力 ............ 後來 一群 男人 清楚 成功 所以',\n",
              " '阿啞 阿保 裝熟 美女 節目 八卦 個人 喜歡 愛玩 打電話 過來 當然 飯店 那時 怎樣 ... 應該 他們 抽菸 於是',\n",
              " '黃金榮 蔣介石 杜月笙 老爺子 當時 因為 山頭 張老爺 張嘯林 輩分 輩份 後來 門下 出身 小混混 再來 拜過 說法 不過 那麼',\n",
              " '曉書 模特兒 因為 手語 聽不見 聽障 什麼 覺得 這樣 不會 講話 一個 採訪 每個 現在 雖然 經紀 小任 自己 專業',\n",
              " '後來 曾經 商人 大陸 佔領 以後 一個 唱戲 這個 成為 估振甫 戲曲 老師 至於 什麼 那麼 老蔣 看過 說法 國民黨',\n",
              " '共產黨 重新做人 黃金榮 後來 民國 竊據 大陸 沒有 來到 台灣 之後 蠻慘 財產 全數 沒收 還被 當成 黑五類 批鬥 悔過書',\n",
              " 'Orz 飲料 潘博頓 一種 頭痛 他們 發明 可樂 營養 液體 一邊 魏納伯 可口可樂 賣出 味道 沙士 九瓶 柳橙 一九八六年 九六',\n",
              " '還是 時候 之後 爸爸 女友 妹妹 華僑 半個 中國 因為 拋棄 他們 基努禮 維到 現在 諒解 他爸 駭客 任務 送給',\n",
              " '血統 前女友 妹妹 一半 華裔 媽媽 英國人 繼父 從事 幕後 成為 演員 關係 中時 一個 綽號 Wall 因為 然後 出車禍',\n",
              " '學校 時候 後來 女朋友 這邊 一個 幾個 裡的 因為 稀鬆 沒多久 然後 交誼 風頭 很健 他升 三年級 就寢 別人 傳開',\n",
              " '他們 River 名字 這對 傳教 來自 Jude 流浪 嬉皮 中南美 童星 媽媽 離家出走 認識 曾經 短暫 結婚 離異 夫婦 一個',\n",
              " '... Children God 請問 這個 宗教團體 資料 覺得 年來 擔心 統一教 攝理 那樣 已經 離婚 怪怪的 八卦 父母 是不是 另外',\n",
              " '扁平足 李小龍 嚴重 EQUACESIC 死因 蹲下 先天 那個 這個 名詞 新鮮 電影圈 腳筋 短一 條件 其實 後天 苦練 美國 葉問',\n",
              " '漁民 女方 李委 樓上 一起 跳船 雖然 喜歡 不過 有講 承認 不滿 然後 李委才 毀恨 回來 還有 後來 確定 是許',\n",
              " '外勞 雇主 勞委會 仲介 .. 我們 監護 申請 一個 申訴 小女生 工廠 因為 名額 臺灣 他們 這樣 真的 所以 情況',\n",
              " '他們 記者 不得好死 喜歡 砂石 團體 因為 花蓮 翻拍 友人 抄者 畫面 兒女 以後 子孫 福氣 這個 來自 感覺 環保',\n",
              " 'River Joaquin 不過 現在 補充 他弟 奧斯卡 氣質 戲路 其實 比較 沒有 影響 演技 影展 幾點 年輕 雖然 記錄 柳葉',\n",
              " '... 發生 時候 因為 唸書 考試 朋友 睡眠不足 所以 coldking45 LivinLaVidaLoca StupidClown 標題 笨事 時間 Tue Jul 19 04 39',\n",
              " '小黑 的話 出來 這樣 一個 老闆 一點 這個 現在 威脅 他們 保證 開始 犧牲 唸書 不錯 處處 捏死 弟妹 薪水',\n",
              " '還有 照片 利智 .... 原篇 推文 搞錯 陳法蓉 我來 補上 雖然 兩人 感覺 有點像 卻是 兩個 這邊 李連杰 相識 過程',\n",
              " '九孔 ... 塔台 沒錯 英文 這邊 一個 笑話 某個 電視節目 報料 空軍 飛行 對話 #%& #& %.... 這裡 此時 謝謝',\n",
              " '現在 模特兒 妹妹 山下 少女 這個 網頁 幾個 當紅 他們 從事 演藝 活動 分別 智久 莉奈 曾經 業餘 赤西仁 赤西礼保',\n",
              " '教官 九恐 任務 飛行 還是 記不 記得 上過 超級 尋人 當年 那個 訓練 九恐開 飛機 睡著 後來 醒來 問他 哪裡',\n",
              " '九恐 教官 然後 飛行 節目 因為 旁邊 飛機 結果 XD 比如說 時候 煙囪 任務 報告 看到 跑道 降落 不到 回航',\n",
              " '其實 前一陣子 幾個 IFPI 有大 動作 ifpi 強調 國外 p2p 犯法 使用者 八卦 警方 大概 就是',\n",
              " '成大 台北 什麼 不抄 大學 .... ... 同學 律師 唱片 nono IFPI 學校 因為 這些 同學們 比較 XD 當初 mp3',\n",
              " '常威 鄒兆龍 宋青書 裡的 公子 霍元甲 倪星演 台灣 後來 發展 李連杰 屠龍記 駭客 任務 專心 美國 跟裡 連杰 裡面 演李',\n",
              " '交換 角色 因為 感興趣 定裝 劇組 發現 兩人 布嫂 婚變 Mon 還買 半版 報紙 同進 同退 創下 美國 連續劇 最長',\n",
              " 'Monica 劇組 Rachael 這個 比較 來試 覺得 適合 人還 有點 傷心 XD 本來 要演 聽說 一個 Phoebe 女演員 嫁給 現任',\n",
              " '製作 屬意 擔任 瑞秋 角色 莫妮卡 珍妮佛 奎特 FRIENDS 籌備 Friends Like These 演員 現在 樣子 上寇 特妮 考斯艾 寇特妮',\n",
              " '咖啡因 咖啡 星巴克 Espresso 煮法 阿拉比 小時 滴濾式 因為 ... 一個 含量 時間 濃縮 不過 不會 一種 卡豆 飲品 代謝',\n",
              " '兒子 柯一正 柯宇綸 電影 台灣 秦漢 孫國豪 張翰 張震 幾年 等片 發展 14 童星 張國柱 進軍 演藝圈 只不過 持續 這群',\n",
              " '捷運 特拉 天道 立委 因為 毀約 他們 告訴 至於 老師 木柵 電機工程 台灣 發包 給台灣 窮達 勞發 嘆聲 莫要問 冬去',\n",
              " '他們 演唱會 key 小丸子 twins 現場 嚇人 boys 梁洛施 整個 大走音 道觀 眾為 什麼 買票 還有 歌之王 一唱會 自動 還會',\n",
              " '好好笑 這是 韓劇 看來 台灣 配音員 這樣 配音 八卦 哈哈 集合 算是 作品 一些 就是',\n",
              " '走紅 這個 kkcity 站台 當初 本來 校內 計畫 後來 獨立 出來 經營 開始 因為 kkman 結合 WWW BBS 瀏覽器 連帶',\n",
              " '牙膏 市場 高路潔 集團 稱霸 引進 黑人 品牌策略 卡位 品牌 台灣 其實 同一個 當初 全台灣 然後 老闆 未雨綢繆 美國 與其',\n",
              " '單曲 AYU 專輯 AVEX 銷量 百萬 他們 那時 精選輯 日本 記得 還是 兩張 歌手 當時 不過 樂界 狂賣 後來 HIKKI',\n",
              " '屁眼 八卦 記者 張韶含 僅供 版友 參考 以後 兒子 女兒 顏行輸 之後 XD 他們 時候 ... 全身 起來 我們 飯店',\n",
              " '女兒 肥肥 後來 離婚 於是 結果 紅了 幾個 懷孕 老婆 擺地攤 小販 還有 娛樂圈 發展 想紅 就當 起來 還是 有給',\n",
              " '節目 當初 進入 演藝圈 一個 那個 還是 因為 還有 睡覺 前途 他家 角色 科系 接演 堂本 聽說 藤木 直仁要 反對',\n",
              " '服務生 這個 律師 一百塊 一千塊 酒店 藝人 聽說 比較 聽到 那麼 高級 小費 零鈔 小姐 喝酒 十分 立委 形象 這是',\n",
              " '小姐 Kim 莎姐 金姨 2003 劇中 聰慧 的話 電視 至於 問題 慾望 這個 還是 SATC 艾美獎 XD 不爽 五次 提名',\n",
              " '徐課 沙漠 蔡康泳 節目 裡說過 當初 拍新 龍門客棧 遇見 觀光客 興奮 簽名 認識 飄飄然 時候 對方 沒想到 施明 取景 一票',\n",
              " '我們 小黑 20 網友 不會 應該 最後 後來 分鐘 帶我去 兩個 酒店 八卦 陷阱 現在 還是 考試 浪費 交卷 小姐',\n",
              " '野島 喜歡 一個 不過 沒有 櫻井 之戀 日劇 屋簷 高校教師 可愛 女明星 女主角 春天 杯杯 白色 小室 壽司 一零 無家',\n",
              " '學生 家教 小黑 三個 我們 有次 時間 上課 以後 來當 最常 老爸 她家 那年 不然 妹妹 多采多姿 六合彩 廢話 一樣',\n",
              " '林美珍 後來 大老婆 孫星 算命 曾經 現任 當時 下來 結果 他們 然後 香港 老婆 得過 家貧 街頭 賣過 演藝圈 早來',\n",
              " '汶萊 國家 汶萊靠 沒錯 這段 有點 太扯 記得 應該 納稅 他們 買車 免稅 現在 沒有 那麼 凱了 那個 免費 主題樂園']"
            ]
          },
          "metadata": {
            "tags": []
          },
          "execution_count": 152
        }
      ]
    },
    {
      "metadata": {
        "id": "Bi9433LDkLtN",
        "colab_type": "text"
      },
      "cell_type": "markdown",
      "source": [
        "積著，我們要利用scikit learn中的TfidfTransformer將文章的TF-IDF特徵向量算出來。\n",
        "\n",
        "先引入函式庫們："
      ]
    },
    {
      "metadata": {
        "id": "cNYb7yhmW7JK",
        "colab_type": "code",
        "colab": {}
      },
      "cell_type": "code",
      "source": [
        "from sklearn import feature_extraction\n",
        "from sklearn.feature_extraction.text import TfidfTransformer\n",
        "from sklearn.feature_extraction.text import CountVectorizer\n",
        "from sklearn.neighbors import NearestNeighbors"
      ],
      "execution_count": 0,
      "outputs": []
    },
    {
      "metadata": {
        "id": "LwWiBE2Hkavm",
        "colab_type": "text"
      },
      "cell_type": "markdown",
      "source": [
        "接著，先用CountVectorizer將每篇文章的總結處理過，再用TfidfTransformer將每一篇文章轉成特徵向量。"
      ]
    },
    {
      "metadata": {
        "id": "mUwDkCgIXGdY",
        "colab_type": "code",
        "colab": {}
      },
      "cell_type": "code",
      "source": [
        "transformer = TfidfTransformer()\n",
        "cv = CountVectorizer()\n",
        "term_doc = cv.fit_transform(fenci_str)\n",
        "fv = transformer.fit_transform(term_doc).toarray()"
      ],
      "execution_count": 0,
      "outputs": []
    },
    {
      "metadata": {
        "id": "gJtCLVZekyqG",
        "colab_type": "text"
      },
      "cell_type": "markdown",
      "source": [
        "來看一下特徵向量長怎樣"
      ]
    },
    {
      "metadata": {
        "id": "Jk5wAUkRbKoW",
        "colab_type": "code",
        "outputId": "bebac46b-eabc-4038-cba5-cc508e598006",
        "colab": {
          "base_uri": "https://localhost:8080/",
          "height": 34
        }
      },
      "cell_type": "code",
      "source": [
        "fv[0]"
      ],
      "execution_count": 0,
      "outputs": [
        {
          "output_type": "execute_result",
          "data": {
            "text/plain": [
              "array([0., 0., 0., ..., 0., 0., 0.])"
            ]
          },
          "metadata": {
            "tags": []
          },
          "execution_count": 155
        }
      ]
    },
    {
      "metadata": {
        "id": "gDbcMg-Fk5Mu",
        "colab_type": "text"
      },
      "cell_type": "markdown",
      "source": [
        "算出每一個文章的特徵向量之後，重頭戲來了。我們要算出與每一篇文章的相似文章有誰。這邊我們要用的函式庫是NearestNeighbors。顧名思義，就是要找最近的鄰居。因為這邊考慮的是文章的特徵向量，因此就是找最相近的文章的意思。"
      ]
    },
    {
      "metadata": {
        "id": "9BozPdzgbNAm",
        "colab_type": "code",
        "colab": {}
      },
      "cell_type": "code",
      "source": [
        "from sklearn.neighbors import NearestNeighbors\n",
        "import numpy as np"
      ],
      "execution_count": 0,
      "outputs": []
    },
    {
      "metadata": {
        "id": "yUpr20eglRib",
        "colab_type": "text"
      },
      "cell_type": "markdown",
      "source": [
        "我們利用NearestNeighbors函數，找出與某篇文章最像的k篇文章。我們這邊是只要看最像的2篇文章就好(n_neighbors=2)。其中，輸出的兩個項中，distances是與該篇文章的距離，indices是最像的文章的編號"
      ]
    },
    {
      "metadata": {
        "id": "iPmxhJmibguA",
        "colab_type": "code",
        "colab": {}
      },
      "cell_type": "code",
      "source": [
        "nbrs = NearestNeighbors(n_neighbors=2,algorithm='ball_tree').fit(fv)\n",
        "distances, indices = nbrs.kneighbors(fv)"
      ],
      "execution_count": 0,
      "outputs": []
    },
    {
      "metadata": {
        "id": "cxd3xbdPiD5_",
        "colab_type": "text"
      },
      "cell_type": "markdown",
      "source": [
        "看看結果！"
      ]
    },
    {
      "metadata": {
        "id": "x0aGmeAibtwu",
        "colab_type": "code",
        "outputId": "fc226d7c-96f0-4666-b28b-291fe85dfaeb",
        "colab": {
          "base_uri": "https://localhost:8080/",
          "height": 6234
        }
      },
      "cell_type": "code",
      "source": [
        "indices"
      ],
      "execution_count": 0,
      "outputs": [
        {
          "output_type": "execute_result",
          "data": {
            "text/plain": [
              "array([[  0, 226],\n",
              "       [  1, 332],\n",
              "       [  2, 159],\n",
              "       [  3,  66],\n",
              "       [  4, 132],\n",
              "       [  5,   6],\n",
              "       [  6,   5],\n",
              "       [  7,   9],\n",
              "       [  8,  67],\n",
              "       [  9,   7],\n",
              "       [ 10, 260],\n",
              "       [ 11, 213],\n",
              "       [ 12, 271],\n",
              "       [ 13,  11],\n",
              "       [ 14, 149],\n",
              "       [ 15,  39],\n",
              "       [ 16,  87],\n",
              "       [ 17, 131],\n",
              "       [ 18, 260],\n",
              "       [ 19, 308],\n",
              "       [ 20,  44],\n",
              "       [ 21, 131],\n",
              "       [ 22,  67],\n",
              "       [ 23, 170],\n",
              "       [ 24, 173],\n",
              "       [ 25,  60],\n",
              "       [ 26, 260],\n",
              "       [ 27,  75],\n",
              "       [ 28,  44],\n",
              "       [ 29,  18],\n",
              "       [ 30, 261],\n",
              "       [ 31, 314],\n",
              "       [ 32,  39],\n",
              "       [ 33, 179],\n",
              "       [ 34,  39],\n",
              "       [ 35,  39],\n",
              "       [ 36, 246],\n",
              "       [ 37, 167],\n",
              "       [ 38, 138],\n",
              "       [ 39,  32],\n",
              "       [ 40,  29],\n",
              "       [ 41, 223],\n",
              "       [ 42, 106],\n",
              "       [ 43,  17],\n",
              "       [ 44, 200],\n",
              "       [ 45, 231],\n",
              "       [ 46,  39],\n",
              "       [ 47, 137],\n",
              "       [ 48, 137],\n",
              "       [ 49, 151],\n",
              "       [ 50, 233],\n",
              "       [ 51,  41],\n",
              "       [ 52, 250],\n",
              "       [ 53,  41],\n",
              "       [ 54, 225],\n",
              "       [ 55,  24],\n",
              "       [ 56, 137],\n",
              "       [ 57, 190],\n",
              "       [ 58,  69],\n",
              "       [ 59, 236],\n",
              "       [ 60,  25],\n",
              "       [ 61,  92],\n",
              "       [ 62,  29],\n",
              "       [ 63, 291],\n",
              "       [ 64, 204],\n",
              "       [ 65, 144],\n",
              "       [ 66, 110],\n",
              "       [ 67,  25],\n",
              "       [ 68, 350],\n",
              "       [ 69,  58],\n",
              "       [ 70, 332],\n",
              "       [ 71,  44],\n",
              "       [ 72, 207],\n",
              "       [ 73, 107],\n",
              "       [ 74, 164],\n",
              "       [ 75, 227],\n",
              "       [ 76, 205],\n",
              "       [ 77, 245],\n",
              "       [ 78,  58],\n",
              "       [ 79, 193],\n",
              "       [ 80, 292],\n",
              "       [ 81,  44],\n",
              "       [ 82, 343],\n",
              "       [ 83, 260],\n",
              "       [ 84,  49],\n",
              "       [ 85,  39],\n",
              "       [ 86, 318],\n",
              "       [ 87, 155],\n",
              "       [ 88, 140],\n",
              "       [ 89,  96],\n",
              "       [ 90, 289],\n",
              "       [ 91, 104],\n",
              "       [ 92, 313],\n",
              "       [ 93, 279],\n",
              "       [ 94, 151],\n",
              "       [ 95,  93],\n",
              "       [ 96,  89],\n",
              "       [ 97, 195],\n",
              "       [ 98, 303],\n",
              "       [ 99, 227],\n",
              "       [100,  29],\n",
              "       [101, 320],\n",
              "       [102, 168],\n",
              "       [103,  84],\n",
              "       [104,  91],\n",
              "       [105, 300],\n",
              "       [106, 151],\n",
              "       [107, 243],\n",
              "       [108,  90],\n",
              "       [109,  19],\n",
              "       [110, 271],\n",
              "       [111, 244],\n",
              "       [112, 243],\n",
              "       [113,  82],\n",
              "       [114, 308],\n",
              "       [115, 172],\n",
              "       [116,  94],\n",
              "       [117, 118],\n",
              "       [118, 117],\n",
              "       [119, 271],\n",
              "       [120, 124],\n",
              "       [121, 214],\n",
              "       [122, 328],\n",
              "       [123, 327],\n",
              "       [124, 211],\n",
              "       [125, 286],\n",
              "       [126,  96],\n",
              "       [127, 137],\n",
              "       [128,  41],\n",
              "       [129, 251],\n",
              "       [130, 305],\n",
              "       [131,  17],\n",
              "       [132,  40],\n",
              "       [133,  69],\n",
              "       [134,  12],\n",
              "       [135, 244],\n",
              "       [136, 232],\n",
              "       [137, 348],\n",
              "       [138,  39],\n",
              "       [139, 339],\n",
              "       [140,  49],\n",
              "       [141, 234],\n",
              "       [142, 144],\n",
              "       [143, 287],\n",
              "       [144, 151],\n",
              "       [145, 146],\n",
              "       [146, 145],\n",
              "       [147, 213],\n",
              "       [148,  32],\n",
              "       [149, 244],\n",
              "       [150, 230],\n",
              "       [151,  49],\n",
              "       [152,  39],\n",
              "       [153, 228],\n",
              "       [154, 151],\n",
              "       [155,  87],\n",
              "       [156,  60],\n",
              "       [157,  96],\n",
              "       [158, 353],\n",
              "       [159,  32],\n",
              "       [160,  39],\n",
              "       [161, 158],\n",
              "       [162,  58],\n",
              "       [163, 173],\n",
              "       [164, 306],\n",
              "       [165, 208],\n",
              "       [166, 227],\n",
              "       [167,  39],\n",
              "       [168,  58],\n",
              "       [169, 323],\n",
              "       [170,  29],\n",
              "       [171, 150],\n",
              "       [172, 115],\n",
              "       [173, 163],\n",
              "       [174, 292],\n",
              "       [175, 302],\n",
              "       [176, 214],\n",
              "       [177, 297],\n",
              "       [178, 179],\n",
              "       [179, 181],\n",
              "       [180,  89],\n",
              "       [181, 179],\n",
              "       [182, 264],\n",
              "       [183, 253],\n",
              "       [184, 325],\n",
              "       [185, 124],\n",
              "       [186,  30],\n",
              "       [187, 260],\n",
              "       [188,  62],\n",
              "       [189, 260],\n",
              "       [190, 231],\n",
              "       [191, 313],\n",
              "       [192, 104],\n",
              "       [193, 168],\n",
              "       [194, 210],\n",
              "       [195,  97],\n",
              "       [196, 261],\n",
              "       [197, 292],\n",
              "       [198,  38],\n",
              "       [199, 195],\n",
              "       [200,  44],\n",
              "       [201, 228],\n",
              "       [202, 106],\n",
              "       [203, 213],\n",
              "       [204, 227],\n",
              "       [205,  76],\n",
              "       [206, 231],\n",
              "       [207, 331],\n",
              "       [208, 215],\n",
              "       [209, 310],\n",
              "       [210, 324],\n",
              "       [211, 124],\n",
              "       [212,  67],\n",
              "       [213, 147],\n",
              "       [214, 176],\n",
              "       [215, 208],\n",
              "       [216,  44],\n",
              "       [217, 102],\n",
              "       [218,  54],\n",
              "       [219, 210],\n",
              "       [220,  90],\n",
              "       [221, 311],\n",
              "       [222,  68],\n",
              "       [223,  41],\n",
              "       [224, 225],\n",
              "       [225, 224],\n",
              "       [226,  70],\n",
              "       [227, 231],\n",
              "       [228, 210],\n",
              "       [229, 212],\n",
              "       [230, 250],\n",
              "       [231, 227],\n",
              "       [232, 136],\n",
              "       [233,  50],\n",
              "       [234, 141],\n",
              "       [235, 246],\n",
              "       [236, 299],\n",
              "       [237,  69],\n",
              "       [238, 240],\n",
              "       [239, 240],\n",
              "       [240, 238],\n",
              "       [241, 231],\n",
              "       [242, 264],\n",
              "       [243, 112],\n",
              "       [244,  69],\n",
              "       [245, 244],\n",
              "       [246,  36],\n",
              "       [247, 225],\n",
              "       [248, 193],\n",
              "       [249, 210],\n",
              "       [250, 230],\n",
              "       [251, 129],\n",
              "       [252, 286],\n",
              "       [253,  12],\n",
              "       [254, 259],\n",
              "       [255, 244],\n",
              "       [256,  38],\n",
              "       [257, 151],\n",
              "       [258, 247],\n",
              "       [259, 254],\n",
              "       [260,  18],\n",
              "       [261, 289],\n",
              "       [262,  92],\n",
              "       [263,  96],\n",
              "       [264, 182],\n",
              "       [265, 230],\n",
              "       [266, 138],\n",
              "       [267, 291],\n",
              "       [268, 138],\n",
              "       [269,  95],\n",
              "       [270, 224],\n",
              "       [271,  12],\n",
              "       [272, 345],\n",
              "       [273, 275],\n",
              "       [274, 200],\n",
              "       [275, 340],\n",
              "       [276,   8],\n",
              "       [277, 202],\n",
              "       [278, 339],\n",
              "       [279,  93],\n",
              "       [280, 124],\n",
              "       [281,  17],\n",
              "       [282, 131],\n",
              "       [283, 115],\n",
              "       [284,  32],\n",
              "       [285,  68],\n",
              "       [286, 320],\n",
              "       [287, 344],\n",
              "       [288, 307],\n",
              "       [289, 179],\n",
              "       [290, 340],\n",
              "       [291, 275],\n",
              "       [292, 197],\n",
              "       [293,  39],\n",
              "       [294,  15],\n",
              "       [295, 260],\n",
              "       [296, 297],\n",
              "       [297, 296],\n",
              "       [298, 118],\n",
              "       [299, 236],\n",
              "       [300, 105],\n",
              "       [301, 231],\n",
              "       [302,  96],\n",
              "       [303, 307],\n",
              "       [304, 247],\n",
              "       [305, 353],\n",
              "       [306,  95],\n",
              "       [307, 303],\n",
              "       [308, 114],\n",
              "       [309,  96],\n",
              "       [310, 209],\n",
              "       [311, 221],\n",
              "       [312, 107],\n",
              "       [313,  92],\n",
              "       [314,  31],\n",
              "       [315, 299],\n",
              "       [316, 335],\n",
              "       [317,  82],\n",
              "       [318, 148],\n",
              "       [319,  93],\n",
              "       [320, 286],\n",
              "       [321, 231],\n",
              "       [322,  67],\n",
              "       [323, 124],\n",
              "       [324, 210],\n",
              "       [325,  39],\n",
              "       [326,  76],\n",
              "       [327, 123],\n",
              "       [328, 122],\n",
              "       [329, 150],\n",
              "       [330, 317],\n",
              "       [331, 332],\n",
              "       [332, 331],\n",
              "       [333, 334],\n",
              "       [334, 333],\n",
              "       [335, 316],\n",
              "       [336, 107],\n",
              "       [337, 138],\n",
              "       [338, 107],\n",
              "       [339, 139],\n",
              "       [340, 290],\n",
              "       [341, 254],\n",
              "       [342, 120],\n",
              "       [343,  82],\n",
              "       [344, 287],\n",
              "       [345, 272],\n",
              "       [346, 260],\n",
              "       [347, 228],\n",
              "       [348, 137],\n",
              "       [349,  29],\n",
              "       [350,  68],\n",
              "       [351,  92],\n",
              "       [352,  32],\n",
              "       [353, 158],\n",
              "       [354, 127],\n",
              "       [355, 158],\n",
              "       [356, 137],\n",
              "       [357, 118]])"
            ]
          },
          "metadata": {
            "tags": []
          },
          "execution_count": 159
        }
      ]
    },
    {
      "metadata": {
        "id": "6oeNOkFGmFzl",
        "colab_type": "text"
      },
      "cell_type": "markdown",
      "source": [
        "這個結果的解讀方法是：與第i篇文章像的，就是第i個元素。所以可以看到，indices[1] = [1.332]。意思就是說，與編號1文章像的，是編號1和332的文章。（因為自己一定和自己最像，所以編號1一定在裡面。）我們來看看兩篇文章內容！"
      ]
    },
    {
      "metadata": {
        "id": "gCqO72nvbw-8",
        "colab_type": "code",
        "outputId": "ff550b9e-a606-4f0e-b709-2b030e3a8cfb",
        "colab": {
          "base_uri": "https://localhost:8080/",
          "height": 347
        }
      },
      "cell_type": "code",
      "source": [
        "print(articles[1]['content'])"
      ],
      "execution_count": 0,
      "outputs": [
        {
          "output_type": "stream",
          "text": [
            "\n",
            " 看到這推文,忍不住要寫一個飛機沒油的例子\n",
            " 很久之前在讀者文摘上看到,現憑印象寫文,有錯請指正\n",
            "\n",
            " 某家航空飛加拿大的737,飛到半途沒有燃料,\n",
            " 後來報告中是說添加油料時,把公制和英制混淆,\n",
            " 導致那架737的油料沒加滿\n",
            "\n",
            " 這架飛機沒有墜毀,\n",
            " 因為駕駛員使用自己飛滑翔翼的經驗和技巧,\n",
            " 平安地讓這架乘坐上百人的大型客機,以滑翔的方式降落到附近的機場\n",
            "\n",
            " 後來這架客機沒多大損傷,還可以繼續服務,被業界暱稱為\"滑翔機\"\n",
            "\n",
            " 駕駛真神人 =.=\n",
            "---\n",
            " 每次翻讀者文摘都會找這篇故事出來看 ^^\n",
            "--\n",
            "\n"
          ],
          "name": "stdout"
        }
      ]
    },
    {
      "metadata": {
        "id": "qrJofgMab9IQ",
        "colab_type": "code",
        "outputId": "bcee8787-efe5-45b5-f6da-185edeff164f",
        "colab": {
          "base_uri": "https://localhost:8080/",
          "height": 2327
        }
      },
      "cell_type": "code",
      "source": [
        "print(articles[332]['content'])"
      ],
      "execution_count": 0,
      "outputs": [
        {
          "output_type": "stream",
          "text": [
            "\n",
            "我在分享幾個在節目上看到的笑話\n",
            "\n",
            "都是九恐在空軍官校的事\n",
            "\n",
            "故事一\n",
            "\n",
            "九恐有一天出飛行訓練\n",
            "\n",
            "因為是有編組的\n",
            "\n",
            "然後飛在九恐旁邊的飛機裡面的教官\n",
            "\n",
            "就把雙手放開給九恐後面的教官看\n",
            "\n",
            "表示都是他的學生自己開的\n",
            "\n",
            "有點挑釁的意味\n",
            "\n",
            "結果九恐要幫教官出頭\n",
            "\n",
            "說: 教官你放手 讓我來 (正經)\n",
            "\n",
            "結果....\n",
            "\n",
            "\n",
            "教官就用一隻手手刀狂打的他頭\n",
            "\n",
            "\n",
            "說\n",
            "\n",
            "你有本事跟人家講這種話嗎?(怒)............XD\n",
            "\n",
            "=============================================================\n",
            "故事二\n",
            "\n",
            "九恐的飛行技術很爛\n",
            "\n",
            "但是很會背一些飛行教條的東西\n",
            "\n",
            "比如說方位00 放起落架.....\n",
            "\n",
            "然後他說要降落的時候要\"對三邊\"(不太清楚)\n",
            "\n",
            "(他上節目背的超流利)\n",
            "\n",
            "然後開始準備降落\n",
            "\n",
            "就是要對正跑道的意思\n",
            "\n",
            "然後\n",
            "\n",
            "他怎麼對都對不到跑道\n",
            "\n",
            "他一直想不通\n",
            "\n",
            "口訣都背的很好\n",
            "\n",
            "但是就是對不到\n",
            "\n",
            "最後\n",
            "\n",
            "教官就說\n",
            "\n",
            "你看到機場旁邊的煙囪了沒\n",
            "\n",
            "對正他就好\n",
            "\n",
            "後來九恐終於很順利的對正\n",
            "\n",
            "這天\n",
            "\n",
            "他又出飛行任務\n",
            "\n",
            "然後.........\n",
            "\n",
            "要回航的時候\n",
            "\n",
            "他又沒辦法對正了\n",
            "\n",
            "教官就罵他說\n",
            "\n",
            "我不是教過你了麻\n",
            "\n",
            "九恐就說\n",
            "\n",
            "報告教官\n",
            "\n",
            "我找不到煙囪\n",
            "\n",
            "因為今天是假日他停工....................XD\n",
            "\n",
            "==============================================================\n",
            "\n",
            "後記\n",
            "\n",
            "九恐的方向感很差\n",
            "\n",
            "比如說他是嘉義空軍\n",
            "\n",
            "卻常常飛到屏東基地去\n",
            "\n",
            "讓當地的塔台哭笑不得\n",
            "\n",
            "有一次出任務\n",
            "\n",
            "他又迷路了\n",
            "\n",
            "飛到高速公路上空\n",
            "\n",
            "他的教官忍不住了\n",
            "\n",
            "九恐阿\n",
            "\n",
            "你看到路上的車子了沒\n",
            "\n",
            "九恐說 報告教官 看到了\n",
            "\n",
            "教官說 看仔細了喔\n",
            "\n",
            ".......................\n",
            "\n",
            "\n",
            "教官求你 不要再開飛機了 去開卡車好不好 OTZ...........\n",
            "\n",
            "完\n",
            "\n",
            "個人真的蠻欣賞他的\n",
            "\n",
            "字又寫的漂亮........\n",
            "\n",
            "--\n",
            "\n"
          ],
          "name": "stdout"
        }
      ]
    },
    {
      "metadata": {
        "id": "3-Y9Cf-gmrLg",
        "colab_type": "text"
      },
      "cell_type": "markdown",
      "source": [
        "都是在講飛行的！滿好的！\n",
        "\n",
        "如果你要建立一個推薦系統，你也可以把NearestNeighbors()中的參數n_neighbors調大，這樣你就可以找出跟某篇文章很相像的數篇文章囉！！\n"
      ]
    }
  ]
}